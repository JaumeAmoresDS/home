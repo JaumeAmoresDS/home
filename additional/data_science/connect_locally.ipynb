{
 "cells": [
  {
   "cell_type": "markdown",
   "metadata": {},
   "source": [
    "- Based on https://github.com/Azure/AzureML-Containers/tree/master?tab=readme-ov-file#howtorun\n",
    "- Using cheat sheet from https://dockerlabs.collabnix.com/docker/cheatsheet/"
   ]
  },
  {
   "cell_type": "markdown",
   "metadata": {},
   "source": [
    "```bash\n",
    "docker pull mcr.microsoft.com/azureml/openmpi4.1.0-ubuntu22.04\n",
    "docker run -it --entrypoint bash mcr.microsoft.com/azureml/openmpi4.1.0-ubuntu22.04\n",
    "```"
   ]
  }
 ],
 "metadata": {
  "language_info": {
   "name": "python"
  }
 },
 "nbformat": 4,
 "nbformat_minor": 2
}
