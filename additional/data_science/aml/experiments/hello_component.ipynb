{
 "cells": [
  {
   "cell_type": "raw",
   "id": "38534efa-75c0-4aca-941c-e396f2976d46",
   "metadata": {},
   "source": [
    "---\n",
    "title: \"Registering component in Azure ML\"\n",
    "subtitle: How to register a script as a component.\n",
    "author: \"Jaume Amores\"\n",
    "date: 2024-03-22\n",
    "toc: true\n",
    "categories:\n",
    "  - Data Science\n",
    "---"
   ]
  },
  {
   "cell_type": "markdown",
   "id": "439b43fd-1fd6-422a-9420-59af3aab027a",
   "metadata": {},
   "source": [
    "# Register script as component\n",
    "\n",
    "- Create component from script.\n",
    "- Register component in AML.\n",
    "- Next steps"
   ]
  },
  {
   "cell_type": "markdown",
   "id": "1f1da8e5-c9c5-4cd9-8f4e-3ea2bc0c5f4a",
   "metadata": {},
   "source": [
    "## Set up"
   ]
  },
  {
   "cell_type": "code",
   "execution_count": 6,
   "id": "66157643-50ee-4366-9ad3-5496500082c9",
   "metadata": {
    "gather": {
     "logged": 1715321245818
    }
   },
   "outputs": [
    {
     "name": "stderr",
     "output_type": "stream",
     "text": [
      "Found the config file in: /config.json\n"
     ]
    }
   ],
   "source": [
    "# AML imports\n",
    "from azure.ai.ml import (\n",
    "    command,\n",
    "    MLClient\n",
    ")\n",
    "from azure.identity import DefaultAzureCredential\n",
    "\n",
    "# authenticate\n",
    "credential = DefaultAzureCredential()\n",
    "\n",
    "# Get a handle to the workspace\n",
    "ml_client = MLClient.from_config (\n",
    "    credential=credential\n",
    ")"
   ]
  },
  {
   "cell_type": "markdown",
   "id": "dc4cf000-3a09-41d5-a9a7-120c8e484638",
   "metadata": {},
   "source": [
    "## Specifying and submitting job"
   ]
  },
  {
   "cell_type": "markdown",
   "id": "efda3ddb-53b8-43e1-8df9-ebe5e4330496",
   "metadata": {},
   "source": [
    "We specify a job using the `command` decorator:"
   ]
  },
  {
   "cell_type": "code",
   "execution_count": 5,
   "id": "2ee8efea-d7f4-4a5c-9d60-010fcd9bfdd1",
   "metadata": {},
   "outputs": [],
   "source": [
    "job = command(\n",
    "    inputs=dict(\n",
    "        name=\"Jaume\", # default value of our parameter\n",
    "    ),\n",
    "    code=f\"./\",  # location of source code: in this case, the root folder\n",
    "    command=\"python hello_world_core.py --name ${{inputs.name}}\",\n",
    "    environment=\"AzureML-sklearn-1.0-ubuntu20.04-py38-cpu@latest\",\n",
    "    display_name=\"Towards component Hello World\",\n",
    ")"
   ]
  },
  {
   "cell_type": "code",
   "execution_count": 6,
   "id": "8184260b-bc9a-4dd8-a916-e593d4590d6d",
   "metadata": {},
   "outputs": [
    {
     "name": "stderr",
     "output_type": "stream",
     "text": [
      "\u001b[32mUploading data_science (18.84 MBs): 100%|██████████| 18841759/18841759 [00:00<00:00, 21054056.71it/s]\n",
      "\u001b[39m\n",
      "\n"
     ]
    },
    {
     "data": {
      "text/html": [
       "<table style=\"width:100%\"><tr><th>Experiment</th><th>Name</th><th>Type</th><th>Status</th><th>Details Page</th></tr><tr><td>data_science</td><td>calm_feather_z584zn3lrr</td><td>command</td><td>Starting</td><td><a href=\"https://ml.azure.com/runs/calm_feather_z584zn3lrr?wsid=/subscriptions/6af6741b-f140-48c2-84ca-027a27365026/resourcegroups/helloworld/workspaces/helloworld&amp;tid=369b25b1-777a-484a-8b5b-52d79bc83015\" target=\"_blank\" rel=\"noopener\">Link to Azure Machine Learning studio</a></td></tr></table>"
      ],
      "text/plain": [
       "Command({'parameters': {}, 'init': False, 'name': 'calm_feather_z584zn3lrr', 'type': 'command', 'status': 'Starting', 'log_files': None, 'description': None, 'tags': {}, 'properties': {'mlflow.source.git.repoURL': 'git@github.com:JaumeAmoresDS/home.git', 'mlflow.source.git.branch': 'main', 'mlflow.source.git.commit': '47de396059bb7161ac24239d930fda85bea56f99', 'azureml.git.dirty': 'True', '_azureml.ComputeTargetType': 'amlctrain', '_azureml.ClusterName': None, 'ContentSnapshotId': '490d7c87-0576-4534-8a9b-064b4bb813bb'}, 'print_as_yaml': True, 'id': '/subscriptions/6af6741b-f140-48c2-84ca-027a27365026/resourceGroups/helloworld/providers/Microsoft.MachineLearningServices/workspaces/helloworld/jobs/calm_feather_z584zn3lrr', 'Resource__source_path': None, 'base_path': '/mnt/batch/tasks/shared/LS_root/mounts/clusters/jaumecpu/code/Users/jau.m/home/posts/data_science', 'creation_context': <azure.ai.ml.entities._system_data.SystemData object at 0x7fc63c3fb3d0>, 'serialize': <msrest.serialization.Serializer object at 0x7fc63c3f9d50>, 'allowed_keys': {}, 'key_restriction': False, 'logger': <Logger attr_dict (WARNING)>, 'display_name': 'Towards component Hello World', 'experiment_name': 'data_science', 'compute': None, 'services': {'Tracking': {'endpoint': 'azureml://eastus2.api.azureml.ms/mlflow/v1.0/subscriptions/6af6741b-f140-48c2-84ca-027a27365026/resourceGroups/helloworld/providers/Microsoft.MachineLearningServices/workspaces/helloworld?', 'type': 'Tracking'}, 'Studio': {'endpoint': 'https://ml.azure.com/runs/calm_feather_z584zn3lrr?wsid=/subscriptions/6af6741b-f140-48c2-84ca-027a27365026/resourcegroups/helloworld/workspaces/helloworld&tid=369b25b1-777a-484a-8b5b-52d79bc83015', 'type': 'Studio'}}, 'comment': None, 'job_inputs': {'name': 'Jaume'}, 'job_outputs': {'default': {'type': 'uri_folder', 'path': 'azureml://datastores/workspaceartifactstore/ExperimentRun/dcid.calm_feather_z584zn3lrr', 'mode': 'rw_mount'}}, 'inputs': {'name': <azure.ai.ml.entities._job.pipeline._io.base.NodeInput object at 0x7fc63c3fa680>}, 'outputs': {'default': <azure.ai.ml.entities._job.pipeline._io.base.NodeOutput object at 0x7fc63c3f8280>}, 'component': CommandComponent({'intellectual_property': None, 'auto_increment_version': True, 'source': 'REMOTE.WORKSPACE.JOB', 'is_anonymous': False, 'auto_delete_setting': None, 'name': 'calm_feather_z584zn3lrr', 'description': None, 'tags': {}, 'properties': {}, 'print_as_yaml': True, 'id': None, 'Resource__source_path': None, 'base_path': PosixPath('.'), 'creation_context': <azure.ai.ml.entities._system_data.SystemData object at 0x7fc63c3fb3d0>, 'serialize': <msrest.serialization.Serializer object at 0x7fc63c3f9f90>, 'command': 'python hello_world_core.py --name ${{inputs.name}}', 'code': '/subscriptions/6af6741b-f140-48c2-84ca-027a27365026/resourceGroups/helloworld/providers/Microsoft.MachineLearningServices/workspaces/helloworld/codes/95c0f3c1-fd66-4b0d-8c56-ae066af8977b/versions/1', 'environment_variables': {}, 'environment': 'azureml:AzureML-sklearn-1.0-ubuntu20.04-py38-cpu@latest', 'distribution': None, 'resources': None, 'queue_settings': None, 'version': None, 'latest_version': None, 'schema': None, 'type': 'command', 'display_name': 'Towards component Hello World', 'is_deterministic': True, 'inputs': {'name': {'type': 'string', 'default': 'Jaume'}}, 'outputs': {'default': {'type': 'uri_folder', 'path': 'azureml://datastores/workspaceartifactstore/ExperimentRun/dcid.calm_feather_z584zn3lrr', 'mode': 'rw_mount'}}, 'yaml_str': None, 'other_parameter': {'status': 'Starting', 'parameters': {}}, 'additional_includes': [], 'CommandComponent__additional_includes_obj': None}), 'referenced_control_flow_node_instance_id': None, 'kwargs': {'services': {'Tracking': {'endpoint': 'azureml://eastus2.api.azureml.ms/mlflow/v1.0/subscriptions/6af6741b-f140-48c2-84ca-027a27365026/resourceGroups/helloworld/providers/Microsoft.MachineLearningServices/workspaces/helloworld?', 'type': 'Tracking'}, 'Studio': {'endpoint': 'https://ml.azure.com/runs/calm_feather_z584zn3lrr?wsid=/subscriptions/6af6741b-f140-48c2-84ca-027a27365026/resourcegroups/helloworld/workspaces/helloworld&tid=369b25b1-777a-484a-8b5b-52d79bc83015', 'type': 'Studio'}}, 'status': 'Starting', 'creation_context': <azure.ai.ml.entities._system_data.SystemData object at 0x7fc63c3fb3d0>}, 'instance_id': '78288e8f-7224-4a90-a570-1821bd544447', 'source': 'BUILDER', 'validate_required_input_not_provided': True, 'limits': None, 'identity': None, 'distribution': None, 'environment_variables': {}, 'environment': 'azureml:AzureML-sklearn-1.0-ubuntu20.04-py38-cpu@latest', 'resources': {'instance_count': 1, 'shm_size': '2g'}, 'queue_settings': {'job_tier': 'standard'}, 'swept': False})"
      ]
     },
     "execution_count": 6,
     "metadata": {},
     "output_type": "execute_result"
    }
   ],
   "source": [
    "ml_client.create_or_update(job)"
   ]
  },
  {
   "cell_type": "markdown",
   "id": "200e4a70-0e04-456c-b411-2a47f208cecc",
   "metadata": {
    "nteract": {
     "transient": {
      "deleting": false
     }
    }
   },
   "source": [
    "### Result\n",
    "\n",
    "- The component appears in Jobs tab, but doesn't appear in Components tab. \n",
    "- The job appears under a experiment with the same name as the folder the notebook is in, \"data_science\". The \"latest job\" column shows the last display name indicated, which at this momemnt is \"Towards component Hello World\", but it will be a different name later as we run other components.\n",
    "- If you want to differentiate between jobs, you can add the following entry in the command function:\n",
    "`experiment_name=\"my-new-experiment\"`"
   ]
  },
  {
   "cell_type": "markdown",
   "id": "a33057c7-3863-4e6c-a418-6048b0333d20",
   "metadata": {},
   "source": [
    "## with name"
   ]
  },
  {
   "cell_type": "markdown",
   "id": "eb9511ea-acbc-4d92-b044-62ce5bb1d729",
   "metadata": {
    "nteract": {
     "transient": {
      "deleting": false
     }
    }
   },
   "source": [
    "Let's see what happens when we give the component a name."
   ]
  },
  {
   "cell_type": "code",
   "execution_count": 12,
   "id": "9de0494b-f73b-4981-9161-d2b92b2e4cb6",
   "metadata": {},
   "outputs": [],
   "source": [
    "job = command(\n",
    "    name=\"with_name_no_component\",\n",
    "    inputs=dict(\n",
    "        name=\"Jaume\", # default value of our parameter\n",
    "    ),\n",
    "    code=f\"./\",  # location of source code: in this case, the root folder\n",
    "    command=\"python hello_world_core.py --name ${{inputs.name}}\",\n",
    "    environment=\"AzureML-sklearn-1.0-ubuntu20.04-py38-cpu@latest\",\n",
    "    display_name=\"Using name\",\n",
    ")"
   ]
  },
  {
   "cell_type": "code",
   "execution_count": 13,
   "id": "1fcd30f3-30cb-4c0f-a49f-06c8e13ed855",
   "metadata": {},
   "outputs": [
    {
     "name": "stderr",
     "output_type": "stream",
     "text": [
      "\u001b[32mUploading data_science (12.65 MBs): 100%|██████████| 12646567/12646567 [00:00<00:00, 16266221.53it/s]\n",
      "\u001b[39m\n",
      "\n",
      "Bad pipe message: %s [b'\\xb0\\x01\\xc6vv_c\\xd1 W!', b'\\x14r\\x15]\\xc2 e:\\xb2\\xd0*\\x1f\\xdb\\xf5\\x9b\\t@\\x89\\x07\\xe3m7\\xcf\\xfe\\xcd\\x94SD\\x84pdfv\\xbc8,\\xe5\\xbf\\x00\\x08\\x13\\x02\\x13\\x03\\x13\\x01\\x00\\xff\\x01\\x00\\x00\\x8f\\x00\\x00\\x00\\x0e\\x00\\x0c\\x00\\x00\\t127']\n",
      "Bad pipe message: %s [b'.0.1\\x00\\x0b\\x00\\x04\\x03\\x00\\x01\\x02\\x00\\n\\x00\\x0c\\x00\\n\\x00\\x1d\\x00\\x17\\x00\\x1e\\x00\\x19\\x00\\x18\\x00#\\x00\\x00\\x00\\x16\\x00\\x00\\x00\\x17\\x00\\x00\\x00\\r\\x00\\x1e\\x00']\n",
      "Bad pipe message: %s [b'\\x03\\x05\\x03\\x06\\x03\\x08\\x07\\x08\\x08\\x08\\t\\x08\\n\\x08\\x0b\\x08\\x04\\x08\\x05\\x08\\x06\\x04\\x01\\x05\\x01\\x06\\x01']\n",
      "Bad pipe message: %s [b\"6{\\x02\\x11\\xbdB\\xe6\\x1e\\xec\\x8fAF\\x88}\\x1a'\\x1d4 \\xe0\\x82'.\\xb5{\\x07\\x9f\\x0e\\r\\x0cs\\x06\\xa4n\\x80d\\xcb\\xe4\\x7f;\\xf8\\x1a\\xfe\\xa1-\\xa1\\xcb\\x8e\\xd8\\x04\\xab\\x00\\x08\\x13\\x02\\x13\\x03\\x13\\x01\\x00\\xff\\x01\\x00\\x00\\x8f\\x00\\x00\\x00\\x0e\\x00\\x0c\\x00\\x00\\t127.0.0.1\\x00\\x0b\\x00\\x04\\x03\\x00\\x01\\x02\\x00\\n\\x00\\x0c\\x00\\n\\x00\\x1d\\x00\\x17\\x00\\x1e\\x00\\x19\\x00\\x18\\x00#\\x00\\x00\\x00\\x16\\x00\\x00\\x00\\x17\\x00\\x00\\x00\\r\\x00\\x1e\\x00\\x1c\\x04\\x03\\x05\\x03\\x06\\x03\\x08\\x07\\x08\\x08\\x08\\t\", b'\\x08\\x0b\\x08\\x04\\x08\\x05\\x08']\n",
      "Bad pipe message: %s [b'\\x01\\x05\\x01\\x06\\x01']\n",
      "Bad pipe message: %s [b\"\\xe20\\r\\xaaRC\\x9b\\xf0J\\xe1\\xb9<\\x0b53\\xd4\\xd6\\x8c\\x00\\x00|\\xc0,\\xc00\\x00\\xa3\\x00\\x9f\\xcc\\xa9\\xcc\\xa8\\xcc\\xaa\\xc0\\xaf\\xc0\\xad\\xc0\\xa3\\xc0\\x9f\\xc0]\\xc0a\\xc0W\\xc0S\\xc0+\\xc0/\\x00\\xa2\\x00\\x9e\\xc0\\xae\\xc0\\xac\\xc0\\xa2\\xc0\\x9e\\xc0\\\\\\xc0`\\xc0V\\xc0R\\xc0$\\xc0(\\x00k\\x00j\\xc0#\\xc0'\\x00g\\x00@\\xc0\\n\\xc0\\x14\\x009\\x008\\xc0\\t\\xc0\\x13\\x003\\x002\\x00\\x9d\\xc0\\xa1\\xc0\\x9d\\xc0Q\\x00\\x9c\\xc0\\xa0\\xc0\\x9c\\xc0P\\x00=\\x00<\\x005\\x00/\\x00\\x9a\\x00\\x99\\xc0\\x07\\xc0\\x11\\x00\\x96\\x00\\x05\\x00\\xff\\x01\\x00\\x00j\\x00\\x00\\x00\\x0e\\x00\\x0c\\x00\\x00\\t127.0.0.1\\x00\\x0b\\x00\\x04\\x03\\x00\\x01\\x02\\x00\\n\\x00\\x0c\\x00\\n\\x00\\x1d\\x00\\x17\\x00\\x1e\\x00\\x19\\x00\\x18\\x00#\\x00\\x00\\x00\\x16\\x00\\x00\\x00\\x17\\x00\\x00\\x00\\r\\x000\\x00.\\x04\\x03\\x05\\x03\\x06\\x03\\x08\\x07\\x08\\x08\\x08\\t\\x08\\n\\x08\\x0b\\x08\\x04\\x08\\x05\\x08\\x06\\x04\\x01\\x05\\x01\\x06\\x01\", b'\\x02\\x03', b'\\x02\\x01', b'\\x02\\x02']\n",
      "Bad pipe message: %s [b'\\x05\\x02\\x06']\n",
      "Bad pipe message: %s [b\"*G\\xf7\\xbeE\\x11\\xa5\\x84\\x11\\xf5\\xb7\\x84\\x83\\xc0z\\xa8\\xdbt\\x00\\x00\\xa6\\xc0,\\xc00\\x00\\xa3\\x00\\x9f\\xcc\\xa9\\xcc\\xa8\\xcc\\xaa\\xc0\\xaf\\xc0\\xad\\xc0\\xa3\\xc0\\x9f\\xc0]\\xc0a\\xc0W\\xc0S\\xc0+\\xc0/\\x00\\xa2\\x00\\x9e\\xc0\\xae\\xc0\\xac\\xc0\\xa2\\xc0\\x9e\\xc0\\\\\\xc0`\\xc0V\\xc0R\\xc0$\\xc0(\\x00k\\x00j\\xc0s\\xc0w\\x00\\xc4\\x00\\xc3\\xc0#\\xc0'\\x00g\\x00@\\xc0r\\xc0v\\x00\\xbe\\x00\\xbd\\xc0\\n\\xc0\\x14\\x009\\x008\\x00\\x88\\x00\\x87\\xc0\\t\\xc0\\x13\\x003\\x002\\x00\\x9a\\x00\\x99\\x00E\\x00D\\xc0\\x07\\xc0\\x11\\xc0\\x08\\xc0\\x12\\x00\\x16\\x00\\x13\\x00\\x9d\\xc0\\xa1\\xc0\\x9d\\xc0Q\\x00\\x9c\\xc0\\xa0\\xc0\\x9c\\xc0P\\x00=\\x00\\xc0\\x00<\\x00\\xba\\x005\\x00\\x84\\x00/\\x00\\x96\\x00A\\x00\\x05\\x00\\n\\x00\\xff\\x01\\x00\\x00j\"]\n",
      "Bad pipe message: %s [b'\\x072`\\xb7O\\xca\\xae\\x82\\xf5r\\xb6\\x93\\xc1?d\\xd2p\\xfa\\x00\\x00>\\xc0\\x14\\xc0\\n\\x009\\x008\\x007\\x006\\xc0\\x0f\\xc0\\x05\\x005\\xc0\\x13\\xc0\\t\\x003\\x002\\x001\\x000\\xc0\\x0e\\xc0\\x04\\x00/\\x00\\x9a\\x00']\n",
      "Bad pipe message: %s [b'?\\x8b\\xef\\xd0\\xef\\xb7\\x8fRP\\x90ES\\nd\\x88\\xc0\\x1f\\xfb\\x00\\x00']\n",
      "Bad pipe message: %s [b'\\x14\\xc0\\n\\x009\\x008\\x007\\x006\\xc0\\x0f\\xc0\\x05\\x005\\xc0\\x13\\xc0\\t\\x003\\x002\\x001\\x000\\xc0\\x0e\\xc0\\x04\\x00/\\x00\\x9a\\x00\\x99\\x00\\x98\\x00\\x97\\x00\\x96\\x00\\x07\\xc0\\x11\\xc0\\x07\\xc0\\x0c\\xc0\\x02\\x00\\x05\\x00\\x04\\x00\\xff']\n",
      "Bad pipe message: %s [b'W\\xee\\x0e&\\xdc[\\xed\\x8dg\\xfbQ\\xa2\\xa2M\\xcc\\xefl\\xbc\\x00\\x00\\xa2\\xc0\\x14\\xc0\\n\\x009\\x008\\x007\\x006\\x00\\x88\\x00\\x87\\x00\\x86\\x00\\x85\\xc0\\x19\\x00:\\x00\\x89\\xc0\\x0f\\xc0\\x05\\x005\\x00\\x84\\xc0\\x13\\xc0\\t\\x003\\x002\\x001\\x000\\x00\\x9a\\x00\\x99\\x00\\x98\\x00\\x97\\x00E\\x00D\\x00C\\x00B\\xc0\\x18\\x004\\x00\\x9b\\x00F\\xc0\\x0e\\xc0\\x04\\x00/\\x00\\x96\\x00A\\x00\\x07\\xc0\\x11\\xc0\\x07\\xc0\\x16\\x00\\x18\\xc0\\x0c\\xc0\\x02\\x00', b'\\x04\\xc0\\x12\\xc0']\n",
      "Bad pipe message: %s [b'\\x16\\x00\\x13\\x00\\x10\\x00\\r']\n",
      "Bad pipe message: %s [b'k\\xb2\\xc1f\\xb5\\xdf\\xb4qJ\\x0e5B46\\x1a\\xf2\\x1c\\xb6\\x00\\x00\\xa2\\xc0\\x14\\xc0\\n\\x009\\x008\\x007\\x006\\x00\\x88\\x00\\x87\\x00\\x86\\x00\\x85\\xc0\\x19\\x00:\\x00\\x89\\xc0\\x0f\\xc0\\x05\\x005\\x00\\x84\\xc0\\x13\\xc0\\t\\x003\\x002\\x001\\x000\\x00\\x9a\\x00\\x99\\x00\\x98\\x00\\x97\\x00E\\x00D\\x00C\\x00B\\xc0\\x18\\x004\\x00\\x9b\\x00F\\xc0\\x0e\\xc0\\x04\\x00/\\x00\\x96\\x00A\\x00\\x07\\xc0\\x11\\xc0\\x07\\xc0\\x16\\x00\\x18\\xc0\\x0c\\xc0\\x02\\x00\\x05\\x00\\x04\\xc0\\x12']\n",
      "Bad pipe message: %s [b'\\x08g%\\xcd\\x1b\\xed\\x82$\\xf0\\x87\\xdd\\xff#\\x84\\x81\\xa0\\xf9c\\x00\\x00\\x86\\xc00\\xc0,\\xc0(\\xc0$\\xc0\\x14\\xc0\\n\\x00\\xa5\\x00\\xa3\\x00\\xa1\\x00\\x9f\\x00k\\x00j\\x00i\\x00h\\x009\\x008']\n",
      "Bad pipe message: %s [b\"\\x1b\\xa7\\x0f\\xac\\x9c\\x03o\\x13<\\x8bx\\xa3\\xfb\\x16\\x9fN)\\x94\\x00\\x00\\xf4\\xc00\\xc0,\\xc0(\\xc0$\\xc0\\x14\\xc0\\n\\x00\\xa5\\x00\\xa3\\x00\\xa1\\x00\\x9f\\x00k\\x00j\\x00i\\x00h\\x009\\x008\\x007\\x006\\x00\\x88\\x00\\x87\\x00\\x86\\x00\\x85\\xc0\\x19\\x00\\xa7\\x00m\\x00:\\x00\\x89\\xc02\\xc0.\\xc0*\\xc0&\\xc0\\x0f\\xc0\\x05\\x00\\x9d\\x00=\\x005\\x00\\x84\\xc0/\\xc0+\\xc0'\\xc0#\\xc0\\x13\\xc0\\t\\x00\\xa4\\x00\\xa2\\x00\\xa0\\x00\\x9e\\x00g\\x00@\\x00?\\x00>\\x003\\x002\\x001\\x000\\x00\\x9a\\x00\\x99\\x00\\x98\\x00\\x97\\x00E\\x00D\\x00C\\x00B\\xc0\\x18\\x00\\xa6\\x00l\\x004\\x00\\x9b\\x00F\\xc01\\xc0-\\xc0)\\xc0%\\xc0\\x0e\\xc0\\x04\\x00\\x9c\\x00<\\x00/\\x00\\x96\\x00A\\x00\\x07\\xc0\\x11\\xc0\\x07\\xc0\\x16\\x00\\x18\\xc0\\x0c\\xc0\\x02\\x00\\x05\\x00\\x04\\xc0\\x12\\xc0\\x08\\x00\\x16\\x00\\x13\\x00\\x10\\x00\\r\\xc0\\x17\\x00\\x1b\\xc0\\r\\xc0\\x03\\x00\\n\\x00\\x15\\x00\\x12\\x00\\x0f\\x00\"]\n",
      "Bad pipe message: %s [b'\\x1a\\x00\\t\\x00\\x14\\x00\\x11\\x00\\x19\\x00\\x08']\n"
     ]
    }
   ],
   "source": [
    "# Now we register the component to the workspace\n",
    "data_prep_component = ml_client.create_or_update(job)"
   ]
  },
  {
   "cell_type": "markdown",
   "id": "ff9b7e1e-9607-4d90-ac5e-dc93d786b68a",
   "metadata": {
    "nteract": {
     "transient": {
      "deleting": false
     }
    }
   },
   "source": [
    "### Result\n",
    "\n",
    "- The component appears in Jobs tab, but doesn't appear in Components tab."
   ]
  },
  {
   "cell_type": "markdown",
   "id": "d8fbcf92-b484-474a-a67d-98f9b6df0849",
   "metadata": {
    "nteract": {
     "transient": {
      "deleting": false
     }
    }
   },
   "source": [
    "## with .component"
   ]
  },
  {
   "cell_type": "markdown",
   "id": "3b086eee-0b9e-4532-a580-cd4abf43b5ae",
   "metadata": {
    "nteract": {
     "transient": {
      "deleting": false
     }
    }
   },
   "source": [
    "Now we don't give it a name but create by passing `job.component` to `ml_client.create_or_update` instead of passing just `job`, as follows:\n",
    "\n",
    "```python\n",
    "data_prep_component = ml_client.create_or_update(job.component)\n",
    "```"
   ]
  },
  {
   "cell_type": "code",
   "execution_count": 3,
   "id": "fbec4a35-9cfa-4067-a63b-c0c43f77d5fa",
   "metadata": {
    "collapsed": false,
    "gather": {
     "logged": 1715321270783
    },
    "jupyter": {
     "outputs_hidden": false,
     "source_hidden": false
    },
    "nteract": {
     "transient": {
      "deleting": false
     }
    }
   },
   "outputs": [],
   "source": [
    "job = command(\n",
    "    inputs=dict(\n",
    "        name=\"Jaume\", # default value of our parameter\n",
    "    ),\n",
    "    code=f\"./\",  # location of source code: in this case, the root folder\n",
    "    command=\"python hello_world_core.py --name ${{inputs.name}}\",\n",
    "    environment=\"AzureML-sklearn-1.0-ubuntu20.04-py38-cpu@latest\",\n",
    "    display_name=\"Using .component but without name\",\n",
    ")"
   ]
  },
  {
   "cell_type": "code",
   "execution_count": 5,
   "id": "4e0aa934-eeb8-4a8e-a8ce-14e15c92b8d3",
   "metadata": {
    "collapsed": false,
    "gather": {
     "logged": 1715321490322
    },
    "jupyter": {
     "outputs_hidden": false,
     "source_hidden": false
    },
    "nteract": {
     "transient": {
      "deleting": false
     }
    }
   },
   "outputs": [],
   "source": [
    "data_prep_component = ml_client.create_or_update(job.component)"
   ]
  },
  {
   "cell_type": "markdown",
   "id": "174daa23-c295-4782-9d2a-58d4b02e8020",
   "metadata": {
    "nteract": {
     "transient": {
      "deleting": false
     }
    }
   },
   "source": [
    "### Result\n",
    "\n",
    "- The component doesn't appear in Jobs tab, and doesn't appear in Components tab."
   ]
  },
  {
   "cell_type": "markdown",
   "id": "96b1e209-1aae-41b1-81c9-fffc972449cc",
   "metadata": {},
   "source": [
    "## with name and .component"
   ]
  },
  {
   "cell_type": "code",
   "execution_count": 10,
   "id": "5a5a247d-c488-48a2-bde1-34128429ca84",
   "metadata": {},
   "outputs": [],
   "source": [
    "job = command(\n",
    "    name=\"with_name\",\n",
    "    inputs=dict(\n",
    "        name=\"Jaume\", # default value of our parameter\n",
    "    ),\n",
    "    code=f\"./\",  # location of source code: in this case, the root folder\n",
    "    command=\"python hello_world_core.py --name ${{inputs.name}}\",\n",
    "    environment=\"AzureML-sklearn-1.0-ubuntu20.04-py38-cpu@latest\",\n",
    "    display_name=\"Using .component\",\n",
    ")"
   ]
  },
  {
   "cell_type": "code",
   "execution_count": null,
   "id": "b03c30f1-c6d9-48b5-98e9-83f8638162b4",
   "metadata": {},
   "outputs": [
    {
     "name": "stderr",
     "output_type": "stream",
     "text": [
      "\u001b[32mUploading data_science (12.63 MBs): 100%|██████████| 12632631/12632631 [00:00<00:00, 16275057.89it/s]\n",
      "\u001b[39m\n",
      "\n"
     ]
    }
   ],
   "source": [
    "# Now we register the component to the workspace\n",
    "data_prep_component = ml_client.create_or_update(job.component)"
   ]
  },
  {
   "cell_type": "markdown",
   "id": "99f287c5-8188-491e-b507-fdc5bc77dd52",
   "metadata": {
    "nteract": {
     "transient": {
      "deleting": false
     }
    },
    "tags": []
   },
   "source": [
    "### Result\n",
    "\n",
    "- The component appears in Components tab but doesn't appear in Jobs tab."
   ]
  },
  {
   "cell_type": "markdown",
   "id": "99163424-aa29-478d-a5d6-eeadad40c6be",
   "metadata": {},
   "source": [
    "## with name and .component, submitting two times"
   ]
  },
  {
   "cell_type": "code",
   "execution_count": 7,
   "id": "68957320-e182-449d-a712-cac3a861cc8f",
   "metadata": {},
   "outputs": [],
   "source": [
    "job = command(\n",
    "    name=\"with_name_and_two_times_created\",\n",
    "    inputs=dict(\n",
    "        name=\"Jaume\", # default value of our parameter\n",
    "    ),\n",
    "    code=f\"./\",  # location of source code: in this case, the root folder\n",
    "    command=\"python hello_world_core.py --name ${{inputs.name}}\",\n",
    "    environment=\"AzureML-sklearn-1.0-ubuntu20.04-py38-cpu@latest\",\n",
    "    display_name=\"Creating with and without .component\",\n",
    ")"
   ]
  },
  {
   "cell_type": "code",
   "execution_count": 8,
   "id": "5ca46182-4732-4f0a-b23e-768169097006",
   "metadata": {},
   "outputs": [
    {
     "name": "stderr",
     "output_type": "stream",
     "text": [
      "\u001b[32mUploading data_science (12.65 MBs): 100%|██████████| 12646823/12646823 [00:00<00:00, 17475106.66it/s]\n",
      "\u001b[39m\n",
      "\n",
      "Class AutoDeleteSettingSchema: This is an experimental class, and may change at any time. Please see https://aka.ms/azuremlexperimental for more information.\n",
      "Class AutoDeleteConditionSchema: This is an experimental class, and may change at any time. Please see https://aka.ms/azuremlexperimental for more information.\n",
      "Class BaseAutoDeleteSettingSchema: This is an experimental class, and may change at any time. Please see https://aka.ms/azuremlexperimental for more information.\n",
      "Class IntellectualPropertySchema: This is an experimental class, and may change at any time. Please see https://aka.ms/azuremlexperimental for more information.\n",
      "Class ProtectionLevelSchema: This is an experimental class, and may change at any time. Please see https://aka.ms/azuremlexperimental for more information.\n",
      "Class BaseIntellectualPropertySchema: This is an experimental class, and may change at any time. Please see https://aka.ms/azuremlexperimental for more information.\n"
     ]
    }
   ],
   "source": [
    "data_prep_component = ml_client.create_or_update(job.component)\n",
    "data_prep_component = ml_client.create_or_update(job)"
   ]
  },
  {
   "cell_type": "markdown",
   "id": "848160b4-53b8-4ca9-892d-d0dfe8522dec",
   "metadata": {
    "nteract": {
     "transient": {
      "deleting": false
     }
    },
    "tags": []
   },
   "source": [
    "### Result\n",
    "\n",
    "- The component appears in Components tab and in Jobs tab, but there doesn't seem to be link between both."
   ]
  },
  {
   "cell_type": "markdown",
   "id": "89f34c24-3e22-4675-a11f-0d07b8fe758e",
   "metadata": {},
   "source": [
    "## Next steps"
   ]
  },
  {
   "cell_type": "markdown",
   "id": "2b00b62c-fd1c-4885-9a2a-c8e36769a71d",
   "metadata": {},
   "source": [
    "- Connect / reuse created components "
   ]
  },
  {
   "cell_type": "code",
   "execution_count": null,
   "id": "201bd4e1-472d-4e4b-bcb9-d46ba2befbbd",
   "metadata": {},
   "outputs": [],
   "source": []
  }
 ],
 "metadata": {
  "kernel_info": {
   "name": "python310-sdkv2"
  },
  "kernelspec": {
   "display_name": "Python 3.10 - SDK v2",
   "language": "python",
   "name": "python310-sdkv2"
  },
  "language_info": {
   "codemirror_mode": {
    "name": "ipython",
    "version": 3
   },
   "file_extension": ".py",
   "mimetype": "text/x-python",
   "name": "python",
   "nbconvert_exporter": "python",
   "pygments_lexer": "ipython3",
   "version": "3.10.11"
  },
  "microsoft": {
   "ms_spell_check": {
    "ms_spell_check_language": "en"
   }
  },
  "nteract": {
   "version": "nteract-front-end@1.0.0"
  }
 },
 "nbformat": 4,
 "nbformat_minor": 5
}
