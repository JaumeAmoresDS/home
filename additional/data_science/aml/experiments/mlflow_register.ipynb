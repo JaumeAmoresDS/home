{
 "cells": [
  {
   "cell_type": "raw",
   "id": "38534efa-75c0-4aca-941c-e396f2976d46",
   "metadata": {},
   "source": [
    "---\n",
    "title: \"Registering component in Azure ML\"\n",
    "subtitle: How to register a script as a component.\n",
    "author: \"Jaume Amores\"\n",
    "date: 2024-03-22\n",
    "toc: true\n",
    "categories:\n",
    "  - Data Science\n",
    "---"
   ]
  },
  {
   "cell_type": "markdown",
   "id": "439b43fd-1fd6-422a-9420-59af3aab027a",
   "metadata": {},
   "source": [
    "# Register MLFlow Model\n",
    "\n",
    "- Download notebook https://github.com/MicrosoftLearning/mslearn-azure-ml/blob/main/Labs/10/Log%20models%20with%20MLflow.ipynb\n",
    "(clone whole repo from https://github.com/MicrosoftLearning/mslearn-azure-ml.git)\n",
    "\n",
    "- In notebook, replace \n",
    "```\n",
    "compute=\"aml-cluster\",\n",
    "```\n",
    "\n",
    "with your compute instance's name."
   ]
  },
  {
   "cell_type": "markdown",
   "id": "1f1da8e5-c9c5-4cd9-8f4e-3ea2bc0c5f4a",
   "metadata": {},
   "source": [
    "## Set up"
   ]
  },
  {
   "cell_type": "code",
   "execution_count": 1,
   "id": "66157643-50ee-4366-9ad3-5496500082c9",
   "metadata": {
    "gather": {
     "logged": 1715321245818
    }
   },
   "outputs": [
    {
     "name": "stderr",
     "output_type": "stream",
     "text": [
      "Found the config file in: /config.json\n"
     ]
    }
   ],
   "source": [
    "# AML imports\n",
    "from azure.ai.ml import (\n",
    "    command,\n",
    "    MLClient\n",
    ")\n",
    "from azure.identity import DefaultAzureCredential\n",
    "\n",
    "# authenticate\n",
    "credential = DefaultAzureCredential()\n",
    "\n",
    "# Get a handle to the workspace\n",
    "ml_client = MLClient.from_config (\n",
    "    credential=credential\n",
    ")"
   ]
  },
  {
   "cell_type": "markdown",
   "id": "071063a0-5bf4-4808-835f-96e5d7c50246",
   "metadata": {},
   "source": [
    "## Summary:\n",
    "\n",
    "#### 1. Flavor\n",
    "\n",
    "Both\n",
    "\n",
    "```python\n",
    "mlflow.sklearn.autolog()\n",
    "```\n",
    "\n",
    "and \n",
    "\n",
    "```python\n",
    "mlflow.autolog()\n",
    "```\n",
    "\n",
    "achieve the same\n",
    "\n",
    "#### 2. Separate model logging\n",
    "\n",
    "We can avoid logging the model and do it later, by doing:\n",
    "\n",
    "```python\n",
    "mlflow.autolog(log_models=False)\n",
    "```\n",
    "\n",
    "and later doing:\n",
    "\n",
    "##### 2.1. Inferred signature\n",
    "\n",
    "If we want the signature to be inferred we run:\n",
    "\n",
    "```python\n",
    "\n",
    "from mlflow.models.signature import infer_signature\n",
    "\n",
    "# create the signature by inferring it from the datasets\n",
    "signature = infer_signature(X_train, y_hat)\n",
    "\n",
    "# manually log the model\n",
    "mlflow.sklearn.log_model(model, \"model\", signature=signature)    \n",
    "```\n",
    "\n",
    "##### 2.2. Manually indicating signature\n",
    "\n",
    "If we want to indicate it manually, we would do something like:\n",
    "\n",
    "```python\n",
    "# create the signature manually\n",
    "input_schema = Schema([\n",
    "    ColSpec(\"integer\", \"Pregnancies\"),\n",
    "    ColSpec(\"integer\", \"PlasmaGlucose\"),\n",
    "    ColSpec(\"integer\", \"DiastolicBloodPressure\"),\n",
    "    ColSpec(\"integer\", \"TricepsThickness\"),\n",
    "    ColSpec(\"integer\", \"DiastolicBloodPressure\"),\n",
    "    ColSpec(\"integer\", \"SerumInsulin\"),\n",
    "    ColSpec(\"double\", \"BMI\"),\n",
    "    ColSpec(\"double\", \"DiabetesPedigree\"),\n",
    "    ColSpec(\"integer\", \"Age\"),\n",
    "])\n",
    "\n",
    "output_schema = Schema([ColSpec(\"boolean\")])\n",
    "\n",
    "# Create the signature object\n",
    "signature = ModelSignature(inputs=input_schema, outputs=output_schema)\n",
    "\n",
    "# manually log the model\n",
    "mlflow.sklearn.log_model(model, \"model\", signature=signature)\n",
    "\n",
    "```\n",
    "\n",
    "### Register model:\n",
    "\n",
    "```python\n",
    "from azure.ai.ml.entities import Model\n",
    "from azure.ai.ml.constants import AssetTypes\n",
    "\n",
    "job_name = returned_job.name\n",
    "\n",
    "run_model = Model(\n",
    "    path=f\"azureml://jobs/{job_name}/outputs/artifacts/paths/model/\",\n",
    "    name=\"mlflow-diabetes\",\n",
    "    description=\"Model created from run.\",\n",
    "    type=AssetTypes.MLFLOW_MODEL,\n",
    ")\n",
    "# Uncomment after adding required details above\n",
    "ml_client.models.create_or_update(run_model)\n",
    "```\n",
    "\n",
    "In the Studio, navigate to the **Models** page. In the model list, find the `mlflow-diabetes` model and select it to explore it further.\n",
    "\n",
    "- In the **Details** tab of the `mlflow-diabetes` model, you can review that it's a `MLFLOW` type model and the job that trained the model.\n",
    "- In the **Artifacts** tab you can find the directory with the `MLmodel` file.\n",
    "\n",
    "If you want to explore the model's behavior further, you can **optionally** choose to deploy the model to a real-time endpoint.\n",
    "\n",
    "### Metrics:\n",
    "\n",
    "- We see png plots in the outputs+logs tab and in the images tab. These are logged automatically with autolog, during training.\n",
    "- For the moment, I don't see the plots manually saved in the code, in the `train-model-sklearn.py` script (second one in the notebook)"
   ]
  }
 ],
 "metadata": {
  "kernel_info": {
   "name": "python310-sdkv2"
  },
  "kernelspec": {
   "display_name": "Python 3.10 - SDK v2",
   "language": "python",
   "name": "python310-sdkv2"
  },
  "language_info": {
   "codemirror_mode": {
    "name": "ipython",
    "version": 3
   },
   "file_extension": ".py",
   "mimetype": "text/x-python",
   "name": "python",
   "nbconvert_exporter": "python",
   "pygments_lexer": "ipython3",
   "version": "3.10.11"
  },
  "microsoft": {
   "ms_spell_check": {
    "ms_spell_check_language": "en"
   }
  },
  "nteract": {
   "version": "nteract-front-end@1.0.0"
  }
 },
 "nbformat": 4,
 "nbformat_minor": 5
}
