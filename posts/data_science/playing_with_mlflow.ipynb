{
 "cells": [
  {
   "cell_type": "markdown",
   "id": "1577674d-d527-4b40-9963-5e3c38a72e80",
   "metadata": {},
   "source": [
    "# Playing with MLflow"
   ]
  },
  {
   "cell_type": "markdown",
   "id": "1339458d-8d88-4a90-92be-19418b74d939",
   "metadata": {},
   "source": [
    "## Logging details"
   ]
  },
  {
   "cell_type": "markdown",
   "id": "09b0c62c-9bef-44cc-91c3-20b741a3df0e",
   "metadata": {},
   "source": [
    "First experiment: see why the MLflow job created by hello world notebook does not log code, etc. I assume this is because we need to use `command` and create a job through  to the `ml_client`, as explained in the hello world notebook, under section `running script as a job`:"
   ]
  },
  {
   "cell_type": "code",
   "execution_count": 5,
   "id": "5786b54c-db18-49ef-8211-491fca2933fb",
   "metadata": {},
   "outputs": [
    {
     "name": "stdout",
     "output_type": "stream",
     "text": [
      "Writing hello_world_with_logs.py\n"
     ]
    }
   ],
   "source": [
    "%%writefile hello_world_with_logs.py\n",
    "import mlflow\n",
    "from hello_world_core import hello_world, parse_args\n",
    "\n",
    "def start_logging (args):\n",
    "    # set name for logging\n",
    "    mlflow.set_experiment(\"Hello World with logging\")\n",
    "    mlflow.start_run()\n",
    "    mlflow.log_param (\"name to log\", args.name)\n",
    "    \n",
    "def finish_logging ():\n",
    "    mlflow.end_run ()\n",
    "\n",
    "def main():\n",
    "    \"\"\"Main function of the script.\"\"\"\n",
    "    args = parse_args ()\n",
    "    start_logging (args)\n",
    "    hello_world (args.name)\n",
    "    finish_logging ()\n",
    "\n",
    "if __name__ == \"__main__\":\n",
    "    main()"
   ]
  },
  {
   "cell_type": "code",
   "execution_count": 8,
   "id": "62b1e4fc-9ac8-4486-856b-2760ab8464c8",
   "metadata": {},
   "outputs": [],
   "source": [
    "import mlflow"
   ]
  },
  {
   "cell_type": "code",
   "execution_count": 10,
   "id": "85a4d514-d7d9-4429-87ad-b071cdfbd0ae",
   "metadata": {},
   "outputs": [
    {
     "data": {
      "text/plain": [
       "\u001b[0;31mSignature:\u001b[0m\n",
       "\u001b[0mmlflow\u001b[0m\u001b[0;34m.\u001b[0m\u001b[0mcreate_experiment\u001b[0m\u001b[0;34m(\u001b[0m\u001b[0;34m\u001b[0m\n",
       "\u001b[0;34m\u001b[0m    \u001b[0mname\u001b[0m\u001b[0;34m:\u001b[0m \u001b[0mstr\u001b[0m\u001b[0;34m,\u001b[0m\u001b[0;34m\u001b[0m\n",
       "\u001b[0;34m\u001b[0m    \u001b[0martifact_location\u001b[0m\u001b[0;34m:\u001b[0m \u001b[0mOptional\u001b[0m\u001b[0;34m[\u001b[0m\u001b[0mstr\u001b[0m\u001b[0;34m]\u001b[0m \u001b[0;34m=\u001b[0m \u001b[0;32mNone\u001b[0m\u001b[0;34m,\u001b[0m\u001b[0;34m\u001b[0m\n",
       "\u001b[0;34m\u001b[0m    \u001b[0mtags\u001b[0m\u001b[0;34m:\u001b[0m \u001b[0mOptional\u001b[0m\u001b[0;34m[\u001b[0m\u001b[0mDict\u001b[0m\u001b[0;34m[\u001b[0m\u001b[0mstr\u001b[0m\u001b[0;34m,\u001b[0m \u001b[0mAny\u001b[0m\u001b[0;34m]\u001b[0m\u001b[0;34m]\u001b[0m \u001b[0;34m=\u001b[0m \u001b[0;32mNone\u001b[0m\u001b[0;34m,\u001b[0m\u001b[0;34m\u001b[0m\n",
       "\u001b[0;34m\u001b[0m\u001b[0;34m)\u001b[0m \u001b[0;34m->\u001b[0m \u001b[0mstr\u001b[0m\u001b[0;34m\u001b[0m\u001b[0;34m\u001b[0m\u001b[0m\n",
       "\u001b[0;31mDocstring:\u001b[0m\n",
       "Create an experiment.\n",
       "\n",
       ":param name: The experiment name, which must be unique and is case sensitive\n",
       ":param artifact_location: The location to store run artifacts.\n",
       "                          If not provided, the server picks an appropriate default.\n",
       ":param tags: An optional dictionary of string keys and values to set as\n",
       "                        tags on the experiment.\n",
       ":return: String ID of the created experiment.\n",
       "\n",
       ".. test-code-block:: python\n",
       "    :caption: Example\n",
       "\n",
       "    import mlflow\n",
       "    from pathlib import Path\n",
       "\n",
       "    # Create an experiment name, which must be unique and case sensitive\n",
       "    experiment_id = mlflow.create_experiment(\n",
       "        \"Social NLP Experiments\",\n",
       "        artifact_location=Path.cwd().joinpath(\"mlruns\").as_uri(),\n",
       "        tags={\"version\": \"v1\", \"priority\": \"P1\"},\n",
       "    )\n",
       "    experiment = mlflow.get_experiment(experiment_id)\n",
       "    print(\"Name: {}\".format(experiment.name))\n",
       "    print(\"Experiment_id: {}\".format(experiment.experiment_id))\n",
       "    print(\"Artifact Location: {}\".format(experiment.artifact_location))\n",
       "    print(\"Tags: {}\".format(experiment.tags))\n",
       "    print(\"Lifecycle_stage: {}\".format(experiment.lifecycle_stage))\n",
       "    print(\"Creation timestamp: {}\".format(experiment.creation_time))\n",
       "\n",
       ".. code-block:: text\n",
       "    :caption: Output\n",
       "\n",
       "    Name: Social NLP Experiments\n",
       "    Experiment_id: 1\n",
       "    Artifact Location: file:///.../mlruns\n",
       "    Tags: {'version': 'v1', 'priority': 'P1'}\n",
       "    Lifecycle_stage: active\n",
       "    Creation timestamp: 1662004217511\n",
       "\u001b[0;31mFile:\u001b[0m      /anaconda/envs/azureml_py310_sdkv2/lib/python3.10/site-packages/mlflow/tracking/fluent.py\n",
       "\u001b[0;31mType:\u001b[0m      function"
      ]
     },
     "metadata": {},
     "output_type": "display_data"
    }
   ],
   "source": [
    "mlflow.create_experiment?"
   ]
  },
  {
   "cell_type": "code",
   "execution_count": 9,
   "id": "3f73b3db-990a-4f74-ae0e-64a76168550c",
   "metadata": {},
   "outputs": [
    {
     "data": {
      "text/plain": [
       "\u001b[0;31mSignature:\u001b[0m\n",
       "\u001b[0mmlflow\u001b[0m\u001b[0;34m.\u001b[0m\u001b[0mstart_run\u001b[0m\u001b[0;34m(\u001b[0m\u001b[0;34m\u001b[0m\n",
       "\u001b[0;34m\u001b[0m    \u001b[0mrun_id\u001b[0m\u001b[0;34m:\u001b[0m \u001b[0mstr\u001b[0m \u001b[0;34m=\u001b[0m \u001b[0;32mNone\u001b[0m\u001b[0;34m,\u001b[0m\u001b[0;34m\u001b[0m\n",
       "\u001b[0;34m\u001b[0m    \u001b[0mexperiment_id\u001b[0m\u001b[0;34m:\u001b[0m \u001b[0mOptional\u001b[0m\u001b[0;34m[\u001b[0m\u001b[0mstr\u001b[0m\u001b[0;34m]\u001b[0m \u001b[0;34m=\u001b[0m \u001b[0;32mNone\u001b[0m\u001b[0;34m,\u001b[0m\u001b[0;34m\u001b[0m\n",
       "\u001b[0;34m\u001b[0m    \u001b[0mrun_name\u001b[0m\u001b[0;34m:\u001b[0m \u001b[0mOptional\u001b[0m\u001b[0;34m[\u001b[0m\u001b[0mstr\u001b[0m\u001b[0;34m]\u001b[0m \u001b[0;34m=\u001b[0m \u001b[0;32mNone\u001b[0m\u001b[0;34m,\u001b[0m\u001b[0;34m\u001b[0m\n",
       "\u001b[0;34m\u001b[0m    \u001b[0mnested\u001b[0m\u001b[0;34m:\u001b[0m \u001b[0mbool\u001b[0m \u001b[0;34m=\u001b[0m \u001b[0;32mFalse\u001b[0m\u001b[0;34m,\u001b[0m\u001b[0;34m\u001b[0m\n",
       "\u001b[0;34m\u001b[0m    \u001b[0mtags\u001b[0m\u001b[0;34m:\u001b[0m \u001b[0mOptional\u001b[0m\u001b[0;34m[\u001b[0m\u001b[0mDict\u001b[0m\u001b[0;34m[\u001b[0m\u001b[0mstr\u001b[0m\u001b[0;34m,\u001b[0m \u001b[0mAny\u001b[0m\u001b[0;34m]\u001b[0m\u001b[0;34m]\u001b[0m \u001b[0;34m=\u001b[0m \u001b[0;32mNone\u001b[0m\u001b[0;34m,\u001b[0m\u001b[0;34m\u001b[0m\n",
       "\u001b[0;34m\u001b[0m    \u001b[0mdescription\u001b[0m\u001b[0;34m:\u001b[0m \u001b[0mOptional\u001b[0m\u001b[0;34m[\u001b[0m\u001b[0mstr\u001b[0m\u001b[0;34m]\u001b[0m \u001b[0;34m=\u001b[0m \u001b[0;32mNone\u001b[0m\u001b[0;34m,\u001b[0m\u001b[0;34m\u001b[0m\n",
       "\u001b[0;34m\u001b[0m\u001b[0;34m)\u001b[0m \u001b[0;34m->\u001b[0m \u001b[0mmlflow\u001b[0m\u001b[0;34m.\u001b[0m\u001b[0mtracking\u001b[0m\u001b[0;34m.\u001b[0m\u001b[0mfluent\u001b[0m\u001b[0;34m.\u001b[0m\u001b[0mActiveRun\u001b[0m\u001b[0;34m\u001b[0m\u001b[0;34m\u001b[0m\u001b[0m\n",
       "\u001b[0;31mDocstring:\u001b[0m\n",
       "Start a new MLflow run, setting it as the active run under which metrics and parameters\n",
       "will be logged. The return value can be used as a context manager within a ``with`` block;\n",
       "otherwise, you must call ``end_run()`` to terminate the current run.\n",
       "\n",
       "If you pass a ``run_id`` or the ``MLFLOW_RUN_ID`` environment variable is set,\n",
       "``start_run`` attempts to resume a run with the specified run ID and\n",
       "other parameters are ignored. ``run_id`` takes precedence over ``MLFLOW_RUN_ID``.\n",
       "\n",
       "If resuming an existing run, the run status is set to ``RunStatus.RUNNING``.\n",
       "\n",
       "MLflow sets a variety of default tags on the run, as defined in\n",
       ":ref:`MLflow system tags <system_tags>`.\n",
       "\n",
       ":param run_id: If specified, get the run with the specified UUID and log parameters\n",
       "                 and metrics under that run. The run's end time is unset and its status\n",
       "                 is set to running, but the run's other attributes (``source_version``,\n",
       "                 ``source_type``, etc.) are not changed.\n",
       ":param experiment_id: ID of the experiment under which to create the current run (applicable\n",
       "                      only when ``run_id`` is not specified). If ``experiment_id`` argument\n",
       "                      is unspecified, will look for valid experiment in the following order:\n",
       "                      activated using ``set_experiment``, ``MLFLOW_EXPERIMENT_NAME``\n",
       "                      environment variable, ``MLFLOW_EXPERIMENT_ID`` environment variable,\n",
       "                      or the default experiment as defined by the tracking server.\n",
       ":param run_name: Name of new run.\n",
       "                 Used only when ``run_id`` is unspecified. If a new run is created and\n",
       "                 ``run_name`` is not specified, a unique name will be generated for the run.\n",
       ":param nested: Controls whether run is nested in parent run. ``True`` creates a nested run.\n",
       ":param tags: An optional dictionary of string keys and values to set as tags on the run.\n",
       "             If a run is being resumed, these tags are set on the resumed run. If a new run is\n",
       "             being created, these tags are set on the new run.\n",
       ":param description: An optional string that populates the description box of the run.\n",
       "                    If a run is being resumed, the description is set on the resumed run.\n",
       "                    If a new run is being created, the description is set on the new run.\n",
       ":return: :py:class:`mlflow.ActiveRun` object that acts as a context manager wrapping\n",
       "         the run's state.\n",
       "\n",
       ".. test-code-block:: python\n",
       "    :caption: Example\n",
       "\n",
       "    import mlflow\n",
       "\n",
       "    # Create nested runs\n",
       "    experiment_id = mlflow.create_experiment(\"experiment1\")\n",
       "    with mlflow.start_run(\n",
       "        run_name=\"PARENT_RUN\",\n",
       "        experiment_id=experiment_id,\n",
       "        tags={\"version\": \"v1\", \"priority\": \"P1\"},\n",
       "        description=\"parent\",\n",
       "    ) as parent_run:\n",
       "        mlflow.log_param(\"parent\", \"yes\")\n",
       "        with mlflow.start_run(\n",
       "            run_name=\"CHILD_RUN\",\n",
       "            experiment_id=experiment_id,\n",
       "            description=\"child\",\n",
       "            nested=True,\n",
       "        ) as child_run:\n",
       "            mlflow.log_param(\"child\", \"yes\")\n",
       "\n",
       "    print(\"parent run:\")\n",
       "\n",
       "    print(\"run_id: {}\".format(parent_run.info.run_id))\n",
       "    print(\"description: {}\".format(parent_run.data.tags.get(\"mlflow.note.content\")))\n",
       "    print(\"version tag value: {}\".format(parent_run.data.tags.get(\"version\")))\n",
       "    print(\"priority tag value: {}\".format(parent_run.data.tags.get(\"priority\")))\n",
       "    print(\"--\")\n",
       "\n",
       "    # Search all child runs with a parent id\n",
       "    query = \"tags.mlflow.parentRunId = '{}'\".format(parent_run.info.run_id)\n",
       "    results = mlflow.search_runs(experiment_ids=[experiment_id], filter_string=query)\n",
       "    print(\"child runs:\")\n",
       "    print(results[[\"run_id\", \"params.child\", \"tags.mlflow.runName\"]])\n",
       "\n",
       ".. code-block:: text\n",
       "    :caption: Output\n",
       "\n",
       "    parent run:\n",
       "    run_id: 8979459433a24a52ab3be87a229a9cdf\n",
       "    description: starting a parent for experiment 7\n",
       "    version tag value: v1\n",
       "    priority tag value: P1\n",
       "    --\n",
       "    child runs:\n",
       "                                 run_id params.child tags.mlflow.runName\n",
       "    0  7d175204675e40328e46d9a6a5a7ee6a          yes           CHILD_RUN\n",
       "\u001b[0;31mFile:\u001b[0m      /anaconda/envs/azureml_py310_sdkv2/lib/python3.10/site-packages/mlflow/tracking/fluent.py\n",
       "\u001b[0;31mType:\u001b[0m      function"
      ]
     },
     "metadata": {},
     "output_type": "display_data"
    }
   ],
   "source": [
    "mlflow.start_run?"
   ]
  },
  {
   "cell_type": "code",
   "execution_count": 6,
   "id": "7be6fb03-82d0-4049-89d1-38d4b9b4ad95",
   "metadata": {},
   "outputs": [
    {
     "name": "stderr",
     "output_type": "stream",
     "text": [
      "Found the config file in: /config.json\n",
      "\u001b[32mUploading data_science (12.66 MBs): 100%|██████████| 12658976/12658976 [00:00<00:00, 18557482.88it/s]\n",
      "\u001b[39m\n",
      "\n"
     ]
    },
    {
     "data": {
      "text/html": [
       "<table style=\"width:100%\"><tr><th>Experiment</th><th>Name</th><th>Type</th><th>Status</th><th>Details Page</th></tr><tr><td>data_science</td><td>jolly_malanga_wgt7b8mb36</td><td>command</td><td>Starting</td><td><a href=\"https://ml.azure.com/runs/jolly_malanga_wgt7b8mb36?wsid=/subscriptions/6af6741b-f140-48c2-84ca-027a27365026/resourcegroups/helloworld/workspaces/helloworld&amp;tid=369b25b1-777a-484a-8b5b-52d79bc83015\" target=\"_blank\" rel=\"noopener\">Link to Azure Machine Learning studio</a></td></tr></table>"
      ],
      "text/plain": [
       "Command({'parameters': {}, 'init': False, 'name': 'jolly_malanga_wgt7b8mb36', 'type': 'command', 'status': 'Starting', 'log_files': None, 'description': None, 'tags': {}, 'properties': {'mlflow.source.git.repoURL': 'git@github.com:JaumeAmoresDS/home.git', 'mlflow.source.git.branch': 'main', 'mlflow.source.git.commit': '6877cb9838450ac5ea21c1bbafd288ad1926d8a9', 'azureml.git.dirty': 'True', '_azureml.ComputeTargetType': 'amlctrain', '_azureml.ClusterName': None, 'ContentSnapshotId': '16572327-cd73-44cc-b407-8a3f6547a061'}, 'print_as_yaml': True, 'id': '/subscriptions/6af6741b-f140-48c2-84ca-027a27365026/resourceGroups/helloworld/providers/Microsoft.MachineLearningServices/workspaces/helloworld/jobs/jolly_malanga_wgt7b8mb36', 'Resource__source_path': None, 'base_path': '/mnt/batch/tasks/shared/LS_root/mounts/clusters/jaumecpu/code/Users/jau.m/home/posts/data_science', 'creation_context': <azure.ai.ml.entities._system_data.SystemData object at 0x7f27ec208610>, 'serialize': <msrest.serialization.Serializer object at 0x7f27ec2233a0>, 'allowed_keys': {}, 'key_restriction': False, 'logger': <Logger attr_dict (WARNING)>, 'display_name': 'Hello World with logging and job', 'experiment_name': 'data_science', 'compute': None, 'services': {'Tracking': {'endpoint': 'azureml://eastus2.api.azureml.ms/mlflow/v1.0/subscriptions/6af6741b-f140-48c2-84ca-027a27365026/resourceGroups/helloworld/providers/Microsoft.MachineLearningServices/workspaces/helloworld?', 'type': 'Tracking'}, 'Studio': {'endpoint': 'https://ml.azure.com/runs/jolly_malanga_wgt7b8mb36?wsid=/subscriptions/6af6741b-f140-48c2-84ca-027a27365026/resourcegroups/helloworld/workspaces/helloworld&tid=369b25b1-777a-484a-8b5b-52d79bc83015', 'type': 'Studio'}}, 'comment': None, 'job_inputs': {'name': 'Jaume'}, 'job_outputs': {'default': {'type': 'uri_folder', 'path': 'azureml://datastores/workspaceartifactstore/ExperimentRun/dcid.jolly_malanga_wgt7b8mb36', 'mode': 'rw_mount'}}, 'inputs': {'name': <azure.ai.ml.entities._job.pipeline._io.base.NodeInput object at 0x7f27ec2228c0>}, 'outputs': {'default': <azure.ai.ml.entities._job.pipeline._io.base.NodeOutput object at 0x7f27ec2226b0>}, 'component': CommandComponent({'intellectual_property': None, 'auto_increment_version': True, 'source': 'REMOTE.WORKSPACE.JOB', 'is_anonymous': False, 'auto_delete_setting': None, 'name': 'jolly_malanga_wgt7b8mb36', 'description': None, 'tags': {}, 'properties': {}, 'print_as_yaml': True, 'id': None, 'Resource__source_path': None, 'base_path': PosixPath('.'), 'creation_context': <azure.ai.ml.entities._system_data.SystemData object at 0x7f27ec208610>, 'serialize': <msrest.serialization.Serializer object at 0x7f27ec223130>, 'command': 'python hello_world_with_logs.py --name ${{inputs.name}}', 'code': '/subscriptions/6af6741b-f140-48c2-84ca-027a27365026/resourceGroups/helloworld/providers/Microsoft.MachineLearningServices/workspaces/helloworld/codes/7f95451b-bab4-492d-87ff-eb5e0f25fed4/versions/1', 'environment_variables': {}, 'environment': 'azureml:AzureML-sklearn-1.0-ubuntu20.04-py38-cpu@latest', 'distribution': None, 'resources': None, 'queue_settings': None, 'version': None, 'latest_version': None, 'schema': None, 'type': 'command', 'display_name': 'Hello World with logging and job', 'is_deterministic': True, 'inputs': {'name': {'type': 'string', 'default': 'Jaume'}}, 'outputs': {'default': {'type': 'uri_folder', 'path': 'azureml://datastores/workspaceartifactstore/ExperimentRun/dcid.jolly_malanga_wgt7b8mb36', 'mode': 'rw_mount'}}, 'yaml_str': None, 'other_parameter': {'status': 'Starting', 'parameters': {}}, 'additional_includes': [], 'CommandComponent__additional_includes_obj': None}), 'referenced_control_flow_node_instance_id': None, 'kwargs': {'services': {'Tracking': {'endpoint': 'azureml://eastus2.api.azureml.ms/mlflow/v1.0/subscriptions/6af6741b-f140-48c2-84ca-027a27365026/resourceGroups/helloworld/providers/Microsoft.MachineLearningServices/workspaces/helloworld?', 'type': 'Tracking'}, 'Studio': {'endpoint': 'https://ml.azure.com/runs/jolly_malanga_wgt7b8mb36?wsid=/subscriptions/6af6741b-f140-48c2-84ca-027a27365026/resourcegroups/helloworld/workspaces/helloworld&tid=369b25b1-777a-484a-8b5b-52d79bc83015', 'type': 'Studio'}}, 'status': 'Starting', 'creation_context': <azure.ai.ml.entities._system_data.SystemData object at 0x7f27ec208610>}, 'instance_id': '65e4bd73-e088-4b8e-843a-a652fecc6515', 'source': 'BUILDER', 'validate_required_input_not_provided': True, 'limits': None, 'identity': None, 'distribution': None, 'environment_variables': {}, 'environment': 'azureml:AzureML-sklearn-1.0-ubuntu20.04-py38-cpu@latest', 'resources': {'instance_count': 1, 'shm_size': '2g'}, 'queue_settings': {'job_tier': 'standard'}, 'swept': False})"
      ]
     },
     "execution_count": 6,
     "metadata": {},
     "output_type": "execute_result"
    }
   ],
   "source": [
    "# Standard imports\n",
    "import os\n",
    "\n",
    "# Third-party imports\n",
    "import pandas as pd\n",
    "\n",
    "# AML imports\n",
    "from azure.ai.ml import command, MLClient\n",
    "from azure.identity import DefaultAzureCredential\n",
    "\n",
    "# authenticate\n",
    "credential = DefaultAzureCredential()\n",
    "\n",
    "# Get a handle to the workspace\n",
    "ml_client = MLClient.from_config (\n",
    "    credential=credential\n",
    ")\n",
    "\n",
    "# configure job\n",
    "job = command(\n",
    "    inputs=dict(\n",
    "        name=\"Jaume\", # default value of our parameter\n",
    "    ),\n",
    "    code=f\"./\",  # location of source code: in this case, the root folder\n",
    "    command=\"python hello_world_with_logs.py --name ${{inputs.name}}\",\n",
    "    environment=\"AzureML-sklearn-1.0-ubuntu20.04-py38-cpu@latest\",\n",
    "    display_name=\"Hello World with logging and job\",\n",
    ")\n",
    "\n",
    "# submit job\n",
    "ml_client.create_or_update(job)"
   ]
  },
  {
   "cell_type": "markdown",
   "id": "4ac75bbd-aafd-40b8-9208-3a3fb43848e9",
   "metadata": {},
   "source": [
    "In the previous example there is one error: it seems that we cannot indicate an experiment name unless it is the same as the one indicated in the command function. Since we didn't indicate any experiment name in that function, we try to do it now:"
   ]
  },
  {
   "cell_type": "code",
   "execution_count": 7,
   "id": "ffe2f6d0-c79c-4d7d-8f00-702bc6fb3b79",
   "metadata": {},
   "outputs": [
    {
     "name": "stderr",
     "output_type": "stream",
     "text": [
      "\u001b[32mUploading data_science (12.66 MBs): 100%|██████████| 12664739/12664739 [00:00<00:00, 18366160.15it/s]\n",
      "\u001b[39m\n",
      "\n"
     ]
    },
    {
     "data": {
      "text/html": [
       "<table style=\"width:100%\"><tr><th>Experiment</th><th>Name</th><th>Type</th><th>Status</th><th>Details Page</th></tr><tr><td>Hello World with logging</td><td>joyful_brick_2zb5xmvktl</td><td>command</td><td>Starting</td><td><a href=\"https://ml.azure.com/runs/joyful_brick_2zb5xmvktl?wsid=/subscriptions/6af6741b-f140-48c2-84ca-027a27365026/resourcegroups/helloworld/workspaces/helloworld&amp;tid=369b25b1-777a-484a-8b5b-52d79bc83015\" target=\"_blank\" rel=\"noopener\">Link to Azure Machine Learning studio</a></td></tr></table>"
      ],
      "text/plain": [
       "Command({'parameters': {}, 'init': False, 'name': 'joyful_brick_2zb5xmvktl', 'type': 'command', 'status': 'Starting', 'log_files': None, 'description': None, 'tags': {}, 'properties': {'mlflow.source.git.repoURL': 'git@github.com:JaumeAmoresDS/home.git', 'mlflow.source.git.branch': 'main', 'mlflow.source.git.commit': '6877cb9838450ac5ea21c1bbafd288ad1926d8a9', 'azureml.git.dirty': 'True', '_azureml.ComputeTargetType': 'amlctrain', '_azureml.ClusterName': None, 'ContentSnapshotId': 'd6fb2d07-7b39-4e50-8246-45d1b1710d5a'}, 'print_as_yaml': True, 'id': '/subscriptions/6af6741b-f140-48c2-84ca-027a27365026/resourceGroups/helloworld/providers/Microsoft.MachineLearningServices/workspaces/helloworld/jobs/joyful_brick_2zb5xmvktl', 'Resource__source_path': None, 'base_path': '/mnt/batch/tasks/shared/LS_root/mounts/clusters/jaumecpu/code/Users/jau.m/home/posts/data_science', 'creation_context': <azure.ai.ml.entities._system_data.SystemData object at 0x7f27ec13bdf0>, 'serialize': <msrest.serialization.Serializer object at 0x7f27ec1391b0>, 'allowed_keys': {}, 'key_restriction': False, 'logger': <Logger attr_dict (WARNING)>, 'display_name': 'Hello World with logging and job', 'experiment_name': 'Hello World with logging', 'compute': None, 'services': {'Tracking': {'endpoint': 'azureml://eastus2.api.azureml.ms/mlflow/v1.0/subscriptions/6af6741b-f140-48c2-84ca-027a27365026/resourceGroups/helloworld/providers/Microsoft.MachineLearningServices/workspaces/helloworld?', 'type': 'Tracking'}, 'Studio': {'endpoint': 'https://ml.azure.com/runs/joyful_brick_2zb5xmvktl?wsid=/subscriptions/6af6741b-f140-48c2-84ca-027a27365026/resourcegroups/helloworld/workspaces/helloworld&tid=369b25b1-777a-484a-8b5b-52d79bc83015', 'type': 'Studio'}}, 'comment': None, 'job_inputs': {'name': 'Jaume'}, 'job_outputs': {'default': {'type': 'uri_folder', 'path': 'azureml://datastores/workspaceartifactstore/ExperimentRun/dcid.joyful_brick_2zb5xmvktl', 'mode': 'rw_mount'}}, 'inputs': {'name': <azure.ai.ml.entities._job.pipeline._io.base.NodeInput object at 0x7f27ec1398d0>}, 'outputs': {'default': <azure.ai.ml.entities._job.pipeline._io.base.NodeOutput object at 0x7f27df768490>}, 'component': CommandComponent({'intellectual_property': None, 'auto_increment_version': True, 'source': 'REMOTE.WORKSPACE.JOB', 'is_anonymous': False, 'auto_delete_setting': None, 'name': 'joyful_brick_2zb5xmvktl', 'description': None, 'tags': {}, 'properties': {}, 'print_as_yaml': True, 'id': None, 'Resource__source_path': None, 'base_path': PosixPath('.'), 'creation_context': <azure.ai.ml.entities._system_data.SystemData object at 0x7f27ec13bdf0>, 'serialize': <msrest.serialization.Serializer object at 0x7f27ec13be80>, 'command': 'python hello_world_with_logs.py --name ${{inputs.name}}', 'code': '/subscriptions/6af6741b-f140-48c2-84ca-027a27365026/resourceGroups/helloworld/providers/Microsoft.MachineLearningServices/workspaces/helloworld/codes/8b2505da-dbd1-4706-8b59-d08b5f18818a/versions/1', 'environment_variables': {}, 'environment': 'azureml:AzureML-sklearn-1.0-ubuntu20.04-py38-cpu@latest', 'distribution': None, 'resources': None, 'queue_settings': None, 'version': None, 'latest_version': None, 'schema': None, 'type': 'command', 'display_name': 'Hello World with logging and job', 'is_deterministic': True, 'inputs': {'name': {'type': 'string', 'default': 'Jaume'}}, 'outputs': {'default': {'type': 'uri_folder', 'path': 'azureml://datastores/workspaceartifactstore/ExperimentRun/dcid.joyful_brick_2zb5xmvktl', 'mode': 'rw_mount'}}, 'yaml_str': None, 'other_parameter': {'status': 'Starting', 'parameters': {}}, 'additional_includes': [], 'CommandComponent__additional_includes_obj': None}), 'referenced_control_flow_node_instance_id': None, 'kwargs': {'services': {'Tracking': {'endpoint': 'azureml://eastus2.api.azureml.ms/mlflow/v1.0/subscriptions/6af6741b-f140-48c2-84ca-027a27365026/resourceGroups/helloworld/providers/Microsoft.MachineLearningServices/workspaces/helloworld?', 'type': 'Tracking'}, 'Studio': {'endpoint': 'https://ml.azure.com/runs/joyful_brick_2zb5xmvktl?wsid=/subscriptions/6af6741b-f140-48c2-84ca-027a27365026/resourcegroups/helloworld/workspaces/helloworld&tid=369b25b1-777a-484a-8b5b-52d79bc83015', 'type': 'Studio'}}, 'status': 'Starting', 'creation_context': <azure.ai.ml.entities._system_data.SystemData object at 0x7f27ec13bdf0>}, 'instance_id': '3abc3392-c5d9-4ad9-9020-44f5f4f603c0', 'source': 'BUILDER', 'validate_required_input_not_provided': True, 'limits': None, 'identity': None, 'distribution': None, 'environment_variables': {}, 'environment': 'azureml:AzureML-sklearn-1.0-ubuntu20.04-py38-cpu@latest', 'resources': {'instance_count': 1, 'shm_size': '2g'}, 'queue_settings': {'job_tier': 'standard'}, 'swept': False})"
      ]
     },
     "execution_count": 7,
     "metadata": {},
     "output_type": "execute_result"
    }
   ],
   "source": [
    "job = command(\n",
    "    inputs=dict(\n",
    "        name=\"Jaume\", # default value of our parameter\n",
    "    ),\n",
    "    code=f\"./\",  # location of source code: in this case, the root folder\n",
    "    command=\"python hello_world_with_logs.py --name ${{inputs.name}}\",\n",
    "    environment=\"AzureML-sklearn-1.0-ubuntu20.04-py38-cpu@latest\",\n",
    "    display_name=\"Hello World with logging and job\",\n",
    "    experiment_name=\"Hello World with logging\",\n",
    ")\n",
    "\n",
    "# submit job\n",
    "ml_client.create_or_update(job)"
   ]
  },
  {
   "cell_type": "markdown",
   "id": "f904cd8c-d751-4573-a2de-9885f9865a40",
   "metadata": {},
   "source": [
    "## Logging experiments"
   ]
  },
  {
   "cell_type": "markdown",
   "id": "1675486b-4d9c-4888-ab70-2d47b1d9651d",
   "metadata": {},
   "source": [
    "Links:\n",
    "\n",
    "https://mlflow.org/docs/2.0.0/tracking.html#logging-functions\n",
    "\n",
    "https://mlflow.org/docs/2.0.0/tracking.html#managing-experiments-and-runs-with-the-tracking-service-api"
   ]
  },
  {
   "cell_type": "code",
   "execution_count": 1,
   "id": "f6a44609-7c3b-48ca-a294-d93602c41113",
   "metadata": {},
   "outputs": [
    {
     "name": "stdout",
     "output_type": "stream",
     "text": [
      "Writing hello_world_experiments.py\n"
     ]
    }
   ],
   "source": [
    "%%writefile hello_world_experiments.py\n",
    "import mlflow\n",
    "from hello_world_core import hello_world, parse_args\n",
    "    \n",
    "def main():\n",
    "    \"\"\"Main function of the script.\"\"\"\n",
    "    \n",
    "    names = [\"John\", \"Mary\", \"Ana\"]\n",
    "    for idx, name in enumerate(names):\n",
    "        mlflow.create_experiment (str(idx))\n",
    "        mlflow.start_run()\n",
    "        mlflow.log_param (\"name to log\", name)\n",
    "        mlflow.log_metric (\"length\", len(name))\n",
    "        mlflow.end_run ()\n",
    "        hello_world (name)\n",
    "    \n",
    "if __name__ == \"__main__\":\n",
    "    main()"
   ]
  },
  {
   "cell_type": "code",
   "execution_count": 2,
   "id": "07213771-41b5-4866-8b0f-f50b23951a19",
   "metadata": {},
   "outputs": [
    {
     "name": "stderr",
     "output_type": "stream",
     "text": [
      "Found the config file in: /config.json\n",
      "Class AutoDeleteSettingSchema: This is an experimental class, and may change at any time. Please see https://aka.ms/azuremlexperimental for more information.\n",
      "Class AutoDeleteConditionSchema: This is an experimental class, and may change at any time. Please see https://aka.ms/azuremlexperimental for more information.\n",
      "Class BaseAutoDeleteSettingSchema: This is an experimental class, and may change at any time. Please see https://aka.ms/azuremlexperimental for more information.\n",
      "Class IntellectualPropertySchema: This is an experimental class, and may change at any time. Please see https://aka.ms/azuremlexperimental for more information.\n",
      "Class ProtectionLevelSchema: This is an experimental class, and may change at any time. Please see https://aka.ms/azuremlexperimental for more information.\n",
      "Class BaseIntellectualPropertySchema: This is an experimental class, and may change at any time. Please see https://aka.ms/azuremlexperimental for more information.\n",
      "\u001b[32mUploading data_science (12.75 MBs): 100%|██████████| 12749662/12749662 [00:00<00:00, 15505064.12it/s]\n",
      "\u001b[39m\n",
      "\n"
     ]
    },
    {
     "data": {
      "text/html": [
       "<table style=\"width:100%\"><tr><th>Experiment</th><th>Name</th><th>Type</th><th>Status</th><th>Details Page</th></tr><tr><td>data_science</td><td>witty_glove_syh5ltdkh6</td><td>command</td><td>Starting</td><td><a href=\"https://ml.azure.com/runs/witty_glove_syh5ltdkh6?wsid=/subscriptions/6af6741b-f140-48c2-84ca-027a27365026/resourcegroups/helloworld/workspaces/helloworld&amp;tid=369b25b1-777a-484a-8b5b-52d79bc83015\" target=\"_blank\" rel=\"noopener\">Link to Azure Machine Learning studio</a></td></tr></table>"
      ],
      "text/plain": [
       "Command({'parameters': {}, 'init': False, 'name': 'witty_glove_syh5ltdkh6', 'type': 'command', 'status': 'Starting', 'log_files': None, 'description': None, 'tags': {}, 'properties': {'mlflow.source.git.repoURL': 'git@github.com:JaumeAmoresDS/home.git', 'mlflow.source.git.branch': 'main', 'mlflow.source.git.commit': '6877cb9838450ac5ea21c1bbafd288ad1926d8a9', 'azureml.git.dirty': 'True', '_azureml.ComputeTargetType': 'amlctrain', '_azureml.ClusterName': None, 'ContentSnapshotId': '4d4e7835-a58a-43e0-91f1-430cd7754654'}, 'print_as_yaml': True, 'id': '/subscriptions/6af6741b-f140-48c2-84ca-027a27365026/resourceGroups/helloworld/providers/Microsoft.MachineLearningServices/workspaces/helloworld/jobs/witty_glove_syh5ltdkh6', 'Resource__source_path': None, 'base_path': '/mnt/batch/tasks/shared/LS_root/mounts/clusters/jaumecpu/code/Users/jau.m/home/posts/data_science', 'creation_context': <azure.ai.ml.entities._system_data.SystemData object at 0x7f008b68f400>, 'serialize': <msrest.serialization.Serializer object at 0x7f008b68f790>, 'allowed_keys': {}, 'key_restriction': False, 'logger': <Logger attr_dict (WARNING)>, 'display_name': 'Hello World with experiments', 'experiment_name': 'data_science', 'compute': None, 'services': {'Tracking': {'endpoint': 'azureml://eastus2.api.azureml.ms/mlflow/v1.0/subscriptions/6af6741b-f140-48c2-84ca-027a27365026/resourceGroups/helloworld/providers/Microsoft.MachineLearningServices/workspaces/helloworld?', 'type': 'Tracking'}, 'Studio': {'endpoint': 'https://ml.azure.com/runs/witty_glove_syh5ltdkh6?wsid=/subscriptions/6af6741b-f140-48c2-84ca-027a27365026/resourcegroups/helloworld/workspaces/helloworld&tid=369b25b1-777a-484a-8b5b-52d79bc83015', 'type': 'Studio'}}, 'comment': None, 'job_inputs': {}, 'job_outputs': {'default': {'type': 'uri_folder', 'path': 'azureml://datastores/workspaceartifactstore/ExperimentRun/dcid.witty_glove_syh5ltdkh6', 'mode': 'rw_mount'}}, 'inputs': {}, 'outputs': {'default': <azure.ai.ml.entities._job.pipeline._io.base.NodeOutput object at 0x7f008b68fd90>}, 'component': CommandComponent({'intellectual_property': None, 'auto_increment_version': True, 'source': 'REMOTE.WORKSPACE.JOB', 'is_anonymous': False, 'auto_delete_setting': None, 'name': 'witty_glove_syh5ltdkh6', 'description': None, 'tags': {}, 'properties': {}, 'print_as_yaml': True, 'id': None, 'Resource__source_path': None, 'base_path': PosixPath('.'), 'creation_context': <azure.ai.ml.entities._system_data.SystemData object at 0x7f008b68f400>, 'serialize': <msrest.serialization.Serializer object at 0x7f008b68f1c0>, 'command': 'python hello_world_experiments.py', 'code': '/subscriptions/6af6741b-f140-48c2-84ca-027a27365026/resourceGroups/helloworld/providers/Microsoft.MachineLearningServices/workspaces/helloworld/codes/162dd293-abdf-4a3b-9004-b0e262e0792b/versions/1', 'environment_variables': {}, 'environment': 'azureml:AzureML-sklearn-1.0-ubuntu20.04-py38-cpu@latest', 'distribution': None, 'resources': None, 'queue_settings': None, 'version': None, 'latest_version': None, 'schema': None, 'type': 'command', 'display_name': 'Hello World with experiments', 'is_deterministic': True, 'inputs': {}, 'outputs': {'default': {'type': 'uri_folder', 'path': 'azureml://datastores/workspaceartifactstore/ExperimentRun/dcid.witty_glove_syh5ltdkh6', 'mode': 'rw_mount'}}, 'yaml_str': None, 'other_parameter': {'status': 'Starting', 'parameters': {}}, 'additional_includes': [], 'CommandComponent__additional_includes_obj': None}), 'referenced_control_flow_node_instance_id': None, 'kwargs': {'services': {'Tracking': {'endpoint': 'azureml://eastus2.api.azureml.ms/mlflow/v1.0/subscriptions/6af6741b-f140-48c2-84ca-027a27365026/resourceGroups/helloworld/providers/Microsoft.MachineLearningServices/workspaces/helloworld?', 'type': 'Tracking'}, 'Studio': {'endpoint': 'https://ml.azure.com/runs/witty_glove_syh5ltdkh6?wsid=/subscriptions/6af6741b-f140-48c2-84ca-027a27365026/resourcegroups/helloworld/workspaces/helloworld&tid=369b25b1-777a-484a-8b5b-52d79bc83015', 'type': 'Studio'}}, 'status': 'Starting', 'creation_context': <azure.ai.ml.entities._system_data.SystemData object at 0x7f008b68f400>}, 'instance_id': '80d94fca-b4cb-4bf5-a073-2ef0131a54f2', 'source': 'BUILDER', 'validate_required_input_not_provided': True, 'limits': None, 'identity': None, 'distribution': None, 'environment_variables': {}, 'environment': 'azureml:AzureML-sklearn-1.0-ubuntu20.04-py38-cpu@latest', 'resources': {'instance_count': 1, 'shm_size': '2g'}, 'queue_settings': {'job_tier': 'standard'}, 'swept': False})"
      ]
     },
     "execution_count": 2,
     "metadata": {},
     "output_type": "execute_result"
    }
   ],
   "source": [
    "# Standard imports\n",
    "import os\n",
    "\n",
    "# Third-party imports\n",
    "import pandas as pd\n",
    "\n",
    "# AML imports\n",
    "from azure.ai.ml import command, MLClient\n",
    "from azure.identity import DefaultAzureCredential\n",
    "\n",
    "# authenticate\n",
    "credential = DefaultAzureCredential()\n",
    "\n",
    "# Get a handle to the workspace\n",
    "ml_client = MLClient.from_config (\n",
    "    credential=credential\n",
    ")\n",
    "\n",
    "# configure job\n",
    "job = command(\n",
    "    code=f\"./\",  # location of source code: in this case, the root folder\n",
    "    command=\"python hello_world_experiments.py\",\n",
    "    environment=\"AzureML-sklearn-1.0-ubuntu20.04-py38-cpu@latest\",\n",
    "    display_name=\"Hello World with experiments\",\n",
    ")\n",
    "\n",
    "# submit job\n",
    "ml_client.create_or_update(job)"
   ]
  },
  {
   "cell_type": "markdown",
   "id": "15e48e1f-bddf-49e1-832a-52e7be6baf82",
   "metadata": {},
   "source": [
    "## start_run receives experiment"
   ]
  },
  {
   "cell_type": "code",
   "execution_count": 3,
   "id": "1d4f191c-e42a-4158-993b-bef6f6495149",
   "metadata": {},
   "outputs": [
    {
     "name": "stdout",
     "output_type": "stream",
     "text": [
      "Overwriting hello_world_experiments.py\n"
     ]
    }
   ],
   "source": [
    "%%writefile hello_world_experiments.py\n",
    "import mlflow\n",
    "from hello_world_core import hello_world, parse_args\n",
    "    \n",
    "def main():\n",
    "    \"\"\"Main function of the script.\"\"\"\n",
    "    \n",
    "    names = [\"John\", \"Mary\", \"Ana\"]\n",
    "    for idx, name in enumerate(names):\n",
    "        experiment = mlflow.create_experiment (str(idx))\n",
    "        mlflow.start_run(experiment)\n",
    "        mlflow.log_param (\"name to log\", name)\n",
    "        mlflow.log_metric (\"length\", len(name))\n",
    "        mlflow.end_run ()\n",
    "        hello_world (name)\n",
    "    \n",
    "if __name__ == \"__main__\":\n",
    "    main()"
   ]
  },
  {
   "cell_type": "code",
   "execution_count": 4,
   "id": "237aeb7e-0876-46e7-8e0f-0c417d742794",
   "metadata": {},
   "outputs": [
    {
     "name": "stderr",
     "output_type": "stream",
     "text": [
      "\u001b[32mUploading data_science (12.73 MBs): 100%|██████████| 12725904/12725904 [00:00<00:00, 16250029.70it/s]\n",
      "\u001b[39m\n",
      "\n"
     ]
    },
    {
     "data": {
      "text/html": [
       "<table style=\"width:100%\"><tr><th>Experiment</th><th>Name</th><th>Type</th><th>Status</th><th>Details Page</th></tr><tr><td>data_science</td><td>good_helmet_wgcgzlvs99</td><td>command</td><td>Starting</td><td><a href=\"https://ml.azure.com/runs/good_helmet_wgcgzlvs99?wsid=/subscriptions/6af6741b-f140-48c2-84ca-027a27365026/resourcegroups/helloworld/workspaces/helloworld&amp;tid=369b25b1-777a-484a-8b5b-52d79bc83015\" target=\"_blank\" rel=\"noopener\">Link to Azure Machine Learning studio</a></td></tr></table>"
      ],
      "text/plain": [
       "Command({'parameters': {}, 'init': False, 'name': 'good_helmet_wgcgzlvs99', 'type': 'command', 'status': 'Starting', 'log_files': None, 'description': None, 'tags': {}, 'properties': {'mlflow.source.git.repoURL': 'git@github.com:JaumeAmoresDS/home.git', 'mlflow.source.git.branch': 'main', 'mlflow.source.git.commit': '6877cb9838450ac5ea21c1bbafd288ad1926d8a9', 'azureml.git.dirty': 'True', '_azureml.ComputeTargetType': 'amlctrain', '_azureml.ClusterName': None, 'ContentSnapshotId': '83485d04-4cce-420e-a489-5f404a332f08'}, 'print_as_yaml': True, 'id': '/subscriptions/6af6741b-f140-48c2-84ca-027a27365026/resourceGroups/helloworld/providers/Microsoft.MachineLearningServices/workspaces/helloworld/jobs/good_helmet_wgcgzlvs99', 'Resource__source_path': None, 'base_path': '/mnt/batch/tasks/shared/LS_root/mounts/clusters/jaumecpu/code/Users/jau.m/home/posts/data_science', 'creation_context': <azure.ai.ml.entities._system_data.SystemData object at 0x7f008958f640>, 'serialize': <msrest.serialization.Serializer object at 0x7f008958f730>, 'allowed_keys': {}, 'key_restriction': False, 'logger': <Logger attr_dict (WARNING)>, 'display_name': 'Hello World with experiments 2', 'experiment_name': 'data_science', 'compute': None, 'services': {'Tracking': {'endpoint': 'azureml://eastus2.api.azureml.ms/mlflow/v1.0/subscriptions/6af6741b-f140-48c2-84ca-027a27365026/resourceGroups/helloworld/providers/Microsoft.MachineLearningServices/workspaces/helloworld?', 'type': 'Tracking'}, 'Studio': {'endpoint': 'https://ml.azure.com/runs/good_helmet_wgcgzlvs99?wsid=/subscriptions/6af6741b-f140-48c2-84ca-027a27365026/resourcegroups/helloworld/workspaces/helloworld&tid=369b25b1-777a-484a-8b5b-52d79bc83015', 'type': 'Studio'}}, 'comment': None, 'job_inputs': {}, 'job_outputs': {'default': {'type': 'uri_folder', 'path': 'azureml://datastores/workspaceartifactstore/ExperimentRun/dcid.good_helmet_wgcgzlvs99', 'mode': 'rw_mount'}}, 'inputs': {}, 'outputs': {'default': <azure.ai.ml.entities._job.pipeline._io.base.NodeOutput object at 0x7f008958f1c0>}, 'component': CommandComponent({'intellectual_property': None, 'auto_increment_version': True, 'source': 'REMOTE.WORKSPACE.JOB', 'is_anonymous': False, 'auto_delete_setting': None, 'name': 'good_helmet_wgcgzlvs99', 'description': None, 'tags': {}, 'properties': {}, 'print_as_yaml': True, 'id': None, 'Resource__source_path': None, 'base_path': PosixPath('.'), 'creation_context': <azure.ai.ml.entities._system_data.SystemData object at 0x7f008958f640>, 'serialize': <msrest.serialization.Serializer object at 0x7f008958f4c0>, 'command': 'python hello_world_experiments.py', 'code': '/subscriptions/6af6741b-f140-48c2-84ca-027a27365026/resourceGroups/helloworld/providers/Microsoft.MachineLearningServices/workspaces/helloworld/codes/8b143ec1-d16f-4527-88b3-89074594292c/versions/1', 'environment_variables': {}, 'environment': 'azureml:AzureML-sklearn-1.0-ubuntu20.04-py38-cpu@latest', 'distribution': None, 'resources': None, 'queue_settings': None, 'version': None, 'latest_version': None, 'schema': None, 'type': 'command', 'display_name': 'Hello World with experiments 2', 'is_deterministic': True, 'inputs': {}, 'outputs': {'default': {'type': 'uri_folder', 'path': 'azureml://datastores/workspaceartifactstore/ExperimentRun/dcid.good_helmet_wgcgzlvs99', 'mode': 'rw_mount'}}, 'yaml_str': None, 'other_parameter': {'status': 'Starting', 'parameters': {}}, 'additional_includes': [], 'CommandComponent__additional_includes_obj': None}), 'referenced_control_flow_node_instance_id': None, 'kwargs': {'services': {'Tracking': {'endpoint': 'azureml://eastus2.api.azureml.ms/mlflow/v1.0/subscriptions/6af6741b-f140-48c2-84ca-027a27365026/resourceGroups/helloworld/providers/Microsoft.MachineLearningServices/workspaces/helloworld?', 'type': 'Tracking'}, 'Studio': {'endpoint': 'https://ml.azure.com/runs/good_helmet_wgcgzlvs99?wsid=/subscriptions/6af6741b-f140-48c2-84ca-027a27365026/resourcegroups/helloworld/workspaces/helloworld&tid=369b25b1-777a-484a-8b5b-52d79bc83015', 'type': 'Studio'}}, 'status': 'Starting', 'creation_context': <azure.ai.ml.entities._system_data.SystemData object at 0x7f008958f640>}, 'instance_id': '2f6b022c-6063-459c-a0ed-e4edc7e05f56', 'source': 'BUILDER', 'validate_required_input_not_provided': True, 'limits': None, 'identity': None, 'distribution': None, 'environment_variables': {}, 'environment': 'azureml:AzureML-sklearn-1.0-ubuntu20.04-py38-cpu@latest', 'resources': {'instance_count': 1, 'shm_size': '2g'}, 'queue_settings': {'job_tier': 'standard'}, 'swept': False})"
      ]
     },
     "execution_count": 4,
     "metadata": {},
     "output_type": "execute_result"
    }
   ],
   "source": [
    "# configure job\n",
    "job = command(\n",
    "    code=f\"./\",  # location of source code: in this case, the root folder\n",
    "    command=\"python hello_world_experiments.py\",\n",
    "    environment=\"AzureML-sklearn-1.0-ubuntu20.04-py38-cpu@latest\",\n",
    "    display_name=\"Hello World with experiments 2\",\n",
    ")\n",
    "\n",
    "# submit job\n",
    "ml_client.create_or_update(job)"
   ]
  },
  {
   "cell_type": "markdown",
   "id": "342e6afd-bf84-4057-a4f7-958ededcb951",
   "metadata": {},
   "source": [
    "## start_run receives under experiment_id name"
   ]
  },
  {
   "cell_type": "code",
   "execution_count": 5,
   "id": "21d823de-71a3-4884-9aad-dcd4bf225fda",
   "metadata": {},
   "outputs": [
    {
     "name": "stdout",
     "output_type": "stream",
     "text": [
      "Writing hello_world_experiments_id.py\n"
     ]
    }
   ],
   "source": [
    "%%writefile hello_world_experiments_id.py\n",
    "import mlflow\n",
    "from hello_world_core import hello_world, parse_args\n",
    "    \n",
    "def main():\n",
    "    \"\"\"Main function of the script.\"\"\"\n",
    "    \n",
    "    names = [\"John\", \"Mary\", \"Ana\"]\n",
    "    for idx, name in enumerate(names):\n",
    "        experiment_id = mlflow.create_experiment (str(idx))\n",
    "        mlflow.start_run(experiment_id=experiment_id)\n",
    "        mlflow.log_param (\"name to log\", name)\n",
    "        mlflow.log_metric (\"length\", len(name))\n",
    "        mlflow.end_run ()\n",
    "        hello_world (name)\n",
    "    \n",
    "if __name__ == \"__main__\":\n",
    "    main()"
   ]
  },
  {
   "cell_type": "code",
   "execution_count": 6,
   "id": "54eba58e-7e09-437a-8f7e-279bc1c48366",
   "metadata": {},
   "outputs": [
    {
     "name": "stderr",
     "output_type": "stream",
     "text": [
      "\u001b[32mUploading data_science (12.74 MBs): 100%|██████████| 12741018/12741018 [00:02<00:00, 5305432.15it/s]\n",
      "\u001b[39m\n",
      "\n"
     ]
    },
    {
     "data": {
      "text/html": [
       "<table style=\"width:100%\"><tr><th>Experiment</th><th>Name</th><th>Type</th><th>Status</th><th>Details Page</th></tr><tr><td>data_science</td><td>lime_snail_kdddyl016h</td><td>command</td><td>Starting</td><td><a href=\"https://ml.azure.com/runs/lime_snail_kdddyl016h?wsid=/subscriptions/6af6741b-f140-48c2-84ca-027a27365026/resourcegroups/helloworld/workspaces/helloworld&amp;tid=369b25b1-777a-484a-8b5b-52d79bc83015\" target=\"_blank\" rel=\"noopener\">Link to Azure Machine Learning studio</a></td></tr></table>"
      ],
      "text/plain": [
       "Command({'parameters': {}, 'init': False, 'name': 'lime_snail_kdddyl016h', 'type': 'command', 'status': 'Starting', 'log_files': None, 'description': None, 'tags': {}, 'properties': {'mlflow.source.git.repoURL': 'git@github.com:JaumeAmoresDS/home.git', 'mlflow.source.git.branch': 'main', 'mlflow.source.git.commit': '6877cb9838450ac5ea21c1bbafd288ad1926d8a9', 'azureml.git.dirty': 'True', '_azureml.ComputeTargetType': 'amlctrain', '_azureml.ClusterName': None, 'ContentSnapshotId': 'a05d9174-b6ba-474f-899a-e45e6900055f'}, 'print_as_yaml': True, 'id': '/subscriptions/6af6741b-f140-48c2-84ca-027a27365026/resourceGroups/helloworld/providers/Microsoft.MachineLearningServices/workspaces/helloworld/jobs/lime_snail_kdddyl016h', 'Resource__source_path': None, 'base_path': '/mnt/batch/tasks/shared/LS_root/mounts/clusters/jaumecpu/code/Users/jau.m/home/posts/data_science', 'creation_context': <azure.ai.ml.entities._system_data.SystemData object at 0x7f0088c330d0>, 'serialize': <msrest.serialization.Serializer object at 0x7f0088c33490>, 'allowed_keys': {}, 'key_restriction': False, 'logger': <Logger attr_dict (WARNING)>, 'display_name': 'Hello World with experiment_id', 'experiment_name': 'data_science', 'compute': None, 'services': {'Tracking': {'endpoint': 'azureml://eastus2.api.azureml.ms/mlflow/v1.0/subscriptions/6af6741b-f140-48c2-84ca-027a27365026/resourceGroups/helloworld/providers/Microsoft.MachineLearningServices/workspaces/helloworld?', 'type': 'Tracking'}, 'Studio': {'endpoint': 'https://ml.azure.com/runs/lime_snail_kdddyl016h?wsid=/subscriptions/6af6741b-f140-48c2-84ca-027a27365026/resourcegroups/helloworld/workspaces/helloworld&tid=369b25b1-777a-484a-8b5b-52d79bc83015', 'type': 'Studio'}}, 'comment': None, 'job_inputs': {}, 'job_outputs': {'default': {'type': 'uri_folder', 'path': 'azureml://datastores/workspaceartifactstore/ExperimentRun/dcid.lime_snail_kdddyl016h', 'mode': 'rw_mount'}}, 'inputs': {}, 'outputs': {'default': <azure.ai.ml.entities._job.pipeline._io.base.NodeOutput object at 0x7f0088c33f70>}, 'component': CommandComponent({'intellectual_property': None, 'auto_increment_version': True, 'source': 'REMOTE.WORKSPACE.JOB', 'is_anonymous': False, 'auto_delete_setting': None, 'name': 'lime_snail_kdddyl016h', 'description': None, 'tags': {}, 'properties': {}, 'print_as_yaml': True, 'id': None, 'Resource__source_path': None, 'base_path': PosixPath('.'), 'creation_context': <azure.ai.ml.entities._system_data.SystemData object at 0x7f0088c330d0>, 'serialize': <msrest.serialization.Serializer object at 0x7f0088c32ad0>, 'command': 'python hello_world_experiments_id.py', 'code': '/subscriptions/6af6741b-f140-48c2-84ca-027a27365026/resourceGroups/helloworld/providers/Microsoft.MachineLearningServices/workspaces/helloworld/codes/125b8faa-98b4-4500-9984-3ff86b661f63/versions/1', 'environment_variables': {}, 'environment': 'azureml:AzureML-sklearn-1.0-ubuntu20.04-py38-cpu@latest', 'distribution': None, 'resources': None, 'queue_settings': None, 'version': None, 'latest_version': None, 'schema': None, 'type': 'command', 'display_name': 'Hello World with experiment_id', 'is_deterministic': True, 'inputs': {}, 'outputs': {'default': {'type': 'uri_folder', 'path': 'azureml://datastores/workspaceartifactstore/ExperimentRun/dcid.lime_snail_kdddyl016h', 'mode': 'rw_mount'}}, 'yaml_str': None, 'other_parameter': {'status': 'Starting', 'parameters': {}}, 'additional_includes': [], 'CommandComponent__additional_includes_obj': None}), 'referenced_control_flow_node_instance_id': None, 'kwargs': {'services': {'Tracking': {'endpoint': 'azureml://eastus2.api.azureml.ms/mlflow/v1.0/subscriptions/6af6741b-f140-48c2-84ca-027a27365026/resourceGroups/helloworld/providers/Microsoft.MachineLearningServices/workspaces/helloworld?', 'type': 'Tracking'}, 'Studio': {'endpoint': 'https://ml.azure.com/runs/lime_snail_kdddyl016h?wsid=/subscriptions/6af6741b-f140-48c2-84ca-027a27365026/resourcegroups/helloworld/workspaces/helloworld&tid=369b25b1-777a-484a-8b5b-52d79bc83015', 'type': 'Studio'}}, 'status': 'Starting', 'creation_context': <azure.ai.ml.entities._system_data.SystemData object at 0x7f0088c330d0>}, 'instance_id': '32c813e9-8dc9-4d1c-a6fc-ad2b0be26c89', 'source': 'BUILDER', 'validate_required_input_not_provided': True, 'limits': None, 'identity': None, 'distribution': None, 'environment_variables': {}, 'environment': 'azureml:AzureML-sklearn-1.0-ubuntu20.04-py38-cpu@latest', 'resources': {'instance_count': 1, 'shm_size': '2g'}, 'queue_settings': {'job_tier': 'standard'}, 'swept': False})"
      ]
     },
     "execution_count": 6,
     "metadata": {},
     "output_type": "execute_result"
    }
   ],
   "source": [
    "# configure job\n",
    "job = command(\n",
    "    code=f\"./\",  # location of source code: in this case, the root folder\n",
    "    command=\"python hello_world_experiments_id.py\",\n",
    "    environment=\"AzureML-sklearn-1.0-ubuntu20.04-py38-cpu@latest\",\n",
    "    display_name=\"Hello World with experiment_id\",\n",
    ")\n",
    "\n",
    "# submit job\n",
    "ml_client.create_or_update(job)"
   ]
  },
  {
   "cell_type": "markdown",
   "id": "88ff94a1-678b-414d-973f-a637417017d2",
   "metadata": {},
   "source": [
    "## using separate runs instead"
   ]
  },
  {
   "cell_type": "code",
   "execution_count": 7,
   "id": "515af2e2-bfff-4c26-bcce-fd054e56a3a8",
   "metadata": {},
   "outputs": [
    {
     "name": "stdout",
     "output_type": "stream",
     "text": [
      "Writing hello_world_runs.py\n"
     ]
    }
   ],
   "source": [
    "%%writefile hello_world_runs.py\n",
    "import mlflow\n",
    "from hello_world_core import hello_world, parse_args\n",
    "    \n",
    "def main():\n",
    "    \"\"\"Main function of the script.\"\"\"\n",
    "    \n",
    "    names = [\"John\", \"Mary\", \"Ana\"]\n",
    "    experiment_id = mlflow.create_experiment(\"experiment1\")\n",
    "    for idx, name in enumerate(names):\n",
    "        mlflow.start_run(run_name=str(idx), experiment_id=experiment_id)\n",
    "        mlflow.log_param (\"name to log\", name)\n",
    "        mlflow.log_metric (\"length\", len(name))\n",
    "        mlflow.end_run ()\n",
    "        hello_world (name)\n",
    "    \n",
    "if __name__ == \"__main__\":\n",
    "    main()"
   ]
  },
  {
   "cell_type": "code",
   "execution_count": 9,
   "id": "4e67f151-5f32-47d4-bc34-a83d1a02e10e",
   "metadata": {},
   "outputs": [
    {
     "name": "stderr",
     "output_type": "stream",
     "text": [
      "\u001b[32mUploading data_science (12.75 MBs): 100%|██████████| 12749252/12749252 [00:00<00:00, 18741643.65it/s]\n",
      "\u001b[39m\n",
      "\n"
     ]
    },
    {
     "data": {
      "text/html": [
       "<table style=\"width:100%\"><tr><th>Experiment</th><th>Name</th><th>Type</th><th>Status</th><th>Details Page</th></tr><tr><td>data_science</td><td>olive_shelf_r4fzsl1f0d</td><td>command</td><td>Starting</td><td><a href=\"https://ml.azure.com/runs/olive_shelf_r4fzsl1f0d?wsid=/subscriptions/6af6741b-f140-48c2-84ca-027a27365026/resourcegroups/helloworld/workspaces/helloworld&amp;tid=369b25b1-777a-484a-8b5b-52d79bc83015\" target=\"_blank\" rel=\"noopener\">Link to Azure Machine Learning studio</a></td></tr></table>"
      ],
      "text/plain": [
       "Command({'parameters': {}, 'init': False, 'name': 'olive_shelf_r4fzsl1f0d', 'type': 'command', 'status': 'Starting', 'log_files': None, 'description': None, 'tags': {}, 'properties': {'mlflow.source.git.repoURL': 'git@github.com:JaumeAmoresDS/home.git', 'mlflow.source.git.branch': 'main', 'mlflow.source.git.commit': '6877cb9838450ac5ea21c1bbafd288ad1926d8a9', 'azureml.git.dirty': 'True', '_azureml.ComputeTargetType': 'amlctrain', '_azureml.ClusterName': None, 'ContentSnapshotId': 'a8860724-5621-40b7-a1ac-0af1252d604e'}, 'print_as_yaml': True, 'id': '/subscriptions/6af6741b-f140-48c2-84ca-027a27365026/resourceGroups/helloworld/providers/Microsoft.MachineLearningServices/workspaces/helloworld/jobs/olive_shelf_r4fzsl1f0d', 'Resource__source_path': None, 'base_path': '/mnt/batch/tasks/shared/LS_root/mounts/clusters/jaumecpu/code/Users/jau.m/home/posts/data_science', 'creation_context': <azure.ai.ml.entities._system_data.SystemData object at 0x7f008818a530>, 'serialize': <msrest.serialization.Serializer object at 0x7f008818a260>, 'allowed_keys': {}, 'key_restriction': False, 'logger': <Logger attr_dict (WARNING)>, 'display_name': 'Hello World with runs', 'experiment_name': 'data_science', 'compute': None, 'services': {'Tracking': {'endpoint': 'azureml://eastus2.api.azureml.ms/mlflow/v1.0/subscriptions/6af6741b-f140-48c2-84ca-027a27365026/resourceGroups/helloworld/providers/Microsoft.MachineLearningServices/workspaces/helloworld?', 'type': 'Tracking'}, 'Studio': {'endpoint': 'https://ml.azure.com/runs/olive_shelf_r4fzsl1f0d?wsid=/subscriptions/6af6741b-f140-48c2-84ca-027a27365026/resourcegroups/helloworld/workspaces/helloworld&tid=369b25b1-777a-484a-8b5b-52d79bc83015', 'type': 'Studio'}}, 'comment': None, 'job_inputs': {}, 'job_outputs': {'default': {'type': 'uri_folder', 'path': 'azureml://datastores/workspaceartifactstore/ExperimentRun/dcid.olive_shelf_r4fzsl1f0d', 'mode': 'rw_mount'}}, 'inputs': {}, 'outputs': {'default': <azure.ai.ml.entities._job.pipeline._io.base.NodeOutput object at 0x7f008818b9a0>}, 'component': CommandComponent({'intellectual_property': None, 'auto_increment_version': True, 'source': 'REMOTE.WORKSPACE.JOB', 'is_anonymous': False, 'auto_delete_setting': None, 'name': 'olive_shelf_r4fzsl1f0d', 'description': None, 'tags': {}, 'properties': {}, 'print_as_yaml': True, 'id': None, 'Resource__source_path': None, 'base_path': PosixPath('.'), 'creation_context': <azure.ai.ml.entities._system_data.SystemData object at 0x7f008818a530>, 'serialize': <msrest.serialization.Serializer object at 0x7f008818ab00>, 'command': 'python hello_world_runs.py', 'code': '/subscriptions/6af6741b-f140-48c2-84ca-027a27365026/resourceGroups/helloworld/providers/Microsoft.MachineLearningServices/workspaces/helloworld/codes/05fb78b8-fb30-4382-a5fb-51382b37e477/versions/1', 'environment_variables': {}, 'environment': 'azureml:AzureML-sklearn-1.0-ubuntu20.04-py38-cpu@latest', 'distribution': None, 'resources': None, 'queue_settings': None, 'version': None, 'latest_version': None, 'schema': None, 'type': 'command', 'display_name': 'Hello World with runs', 'is_deterministic': True, 'inputs': {}, 'outputs': {'default': {'type': 'uri_folder', 'path': 'azureml://datastores/workspaceartifactstore/ExperimentRun/dcid.olive_shelf_r4fzsl1f0d', 'mode': 'rw_mount'}}, 'yaml_str': None, 'other_parameter': {'status': 'Starting', 'parameters': {}}, 'additional_includes': [], 'CommandComponent__additional_includes_obj': None}), 'referenced_control_flow_node_instance_id': None, 'kwargs': {'services': {'Tracking': {'endpoint': 'azureml://eastus2.api.azureml.ms/mlflow/v1.0/subscriptions/6af6741b-f140-48c2-84ca-027a27365026/resourceGroups/helloworld/providers/Microsoft.MachineLearningServices/workspaces/helloworld?', 'type': 'Tracking'}, 'Studio': {'endpoint': 'https://ml.azure.com/runs/olive_shelf_r4fzsl1f0d?wsid=/subscriptions/6af6741b-f140-48c2-84ca-027a27365026/resourcegroups/helloworld/workspaces/helloworld&tid=369b25b1-777a-484a-8b5b-52d79bc83015', 'type': 'Studio'}}, 'status': 'Starting', 'creation_context': <azure.ai.ml.entities._system_data.SystemData object at 0x7f008818a530>}, 'instance_id': '9f890a49-8061-485c-b9e6-e40ca0258fb3', 'source': 'BUILDER', 'validate_required_input_not_provided': True, 'limits': None, 'identity': None, 'distribution': None, 'environment_variables': {}, 'environment': 'azureml:AzureML-sklearn-1.0-ubuntu20.04-py38-cpu@latest', 'resources': {'instance_count': 1, 'shm_size': '2g'}, 'queue_settings': {'job_tier': 'standard'}, 'swept': False})"
      ]
     },
     "execution_count": 9,
     "metadata": {},
     "output_type": "execute_result"
    }
   ],
   "source": [
    "# configure job\n",
    "job = command(\n",
    "    code=f\"./\",  # location of source code: in this case, the root folder\n",
    "    command=\"python hello_world_runs.py\",\n",
    "    environment=\"AzureML-sklearn-1.0-ubuntu20.04-py38-cpu@latest\",\n",
    "    display_name=\"Hello World with runs\",\n",
    ")\n",
    "\n",
    "# submit job\n",
    "ml_client.create_or_update(job)"
   ]
  },
  {
   "cell_type": "code",
   "execution_count": null,
   "id": "81768ed4-07e4-4ef5-a903-d71cf07ad4e9",
   "metadata": {},
   "outputs": [],
   "source": []
  }
 ],
 "metadata": {
  "kernelspec": {
   "display_name": "Python 3.10 - SDK v2",
   "language": "python",
   "name": "python310-sdkv2"
  },
  "language_info": {
   "codemirror_mode": {
    "name": "ipython",
    "version": 3
   },
   "file_extension": ".py",
   "mimetype": "text/x-python",
   "name": "python",
   "nbconvert_exporter": "python",
   "pygments_lexer": "ipython3",
   "version": "3.10.11"
  }
 },
 "nbformat": 4,
 "nbformat_minor": 5
}
